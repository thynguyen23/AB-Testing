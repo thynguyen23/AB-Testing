{
  "nbformat": 4,
  "nbformat_minor": 0,
  "metadata": {
    "colab": {
      "provenance": []
    },
    "kernelspec": {
      "name": "python3",
      "display_name": "Python 3"
    },
    "language_info": {
      "name": "python"
    }
  },
  "cells": [
    {
      "cell_type": "markdown",
      "source": [
        "Hi trước khi bắt đầu thì mình xin phép giới thiệu một xíu đây là dự án mà mình đã học lý thuyết qua khóa học free trên udacity và đọc một số bài trên gg,kaggle và zhihu. Nên mình có cóp nhặt về một số ý và làm cái project này. Để không bị coi là viết bằng chatgpt nên mình sẽ có viết tắt một xíu nhưng không nhiều đáng kể.\n",
        "Mọi sai sót xin hãy liên hệ mình qua email: thy.nhy.da@gmail.com\n",
        "\n",
        "Mình rất cảm kích luôn ạ. Vì học qua những sai lầm sẽ khiến ta nhớ lâu hơn.\n",
        "\n",
        "Vậy giờ bắt đầu thui lào!!!\n",
        "###**A/B Testing Overview**\n",
        "A/B testing là một phương pháp thử nghiệm so sánh giữa 2 phiên bản A và B.Và được sử dụng nhiều trong việc đánh giá chiến dịch marketing mới đây liệu có thành công hơn trước hay không? hay sự thay đổi mới có làm cho thuật toán tốt hơn trước so với mong đợi không bla bla.\n",
        "Thường khi có sự thay đổi mới trên website, họ sẽ thường thử nghiệm trước và đánh giá xem liệu có nên triển khai không.\n",
        "### **Vậy A/B Testing được làm như thế nào?**\n",
        "Đầu tiên chúng ta sẽ chia thành 2 nhóm:\n",
        "- A(control group): dùng phiên bản hiện tại\n",
        "- B(experiment group): dùng phiên bản mới\n",
        "\n",
        "Sau đó sẽ dùng một số metric phù hợp với mục đích, kiểm định giả thuyết (hypothis testing ),... để so sánh và đánh giá.\n",
        "##**Experiment Overview**\n",
        "Udacity muốn tăng tỷ lệ hoàn thành khóa học bằng cách lọc ra những người học không nghiêm túc ngay từ bước đăng ký.\n",
        "\n",
        "Thí nghiệm thay đổi quy trình \"Start Free Trial\":\n",
        "- Hỏi học viên có bao nhiêu thời gian học mỗi tuần.\n",
        "- Nếu < 5 giờ → cảnh báo → gợi ý học miễn phí.\n",
        "- Nếu ≥ 5 giờ/tuần → tiếp tục đăng ký như bình thường.\n",
        "\n",
        "Giả thuyết\n",
        "Việc đặt kỳ vọng sớm sẽ:\n",
        "\n",
        "- Giảm số học viên bỏ dở do không đủ thời gian.\n",
        "\n",
        "- Không ảnh hưởng tiêu cực đến những học viên nghiêm túc.\n",
        "\n",
        "- Tối ưu hỗ trợ từ giảng viên.\n",
        "\n",
        "Kỹ thuật:\n",
        "\n",
        "- Chia nhóm A/B dựa trên cookie (người dùng mới).\n",
        "\n",
        "- Nếu có đăng ký, sẽ theo dõi bằng user-id (chỉ đăng ký thử 1 lần).\n",
        "\n",
        "Phần mà mình thấy khá quan trọng đó là **metric choice**\n",
        "###**Metric choice**###\n",
        "Chúng ta cần 2 loại metric cho thí nghiệm này: invariate(k đổi, bất biến) và evaluation metrics.\n",
        "- Invariate metrics dùng để kiểm tra chia nhóm có công bằng không – Sanity Check. Để chọn ra những metric này ta cần cân nhắc xem đâu là chỉ số sẽ không bị thay đổi hay ảnh hưởng đáng kể giữa 2 nhóm control và experiment.\n",
        "- Evaluation metrics đây là chỉ số được kỳ vọng có sự thay đổi nào đó (tăng hoặc giảm), và nó liên quan đến business goals. Mỗi metric ta sẽ set Dmin - minimum change có ý nghĩa thực tiễn (practically significant). Ví dụ như  nếu Conversion Rate có sự thay đổi tăng 1. 5% cho dù có ý nghĩa thống kê(statistically significant) nhưng dmin= 2%  thì không đáng để triển khai vì không có ý nghĩa thực tiễn cho doanh nghiệp.\n",
        "\n",
        "####**Invariate Metrics- Sanity Checks**\n",
        "Ở đây ta cân nhắc đến một số metric có thể sẽ k đổi sau khi có sự cập nhật như:\n",
        "+ Số lượng cookies ở trang overview (unique daily cookies in Overview Page), Dmin = 3000\n",
        "+ Số lượt click vào nút \"Free Trial\" (unique daily cookies who clicked), Dmin= 240\n",
        "+ Tỷ lệ nhấp chuột (CTP) vào nút \"Free Trial\" (số lượt nhấp/số người xem (cookies)）, Dmin = 0.01\n",
        "\n",
        "####**Evaluation Metrics - Performance Indicators**\n",
        "+ Gross Conversion (tỷ lệ chuyển đổi sang dùng thử), Dmin =0.01\n",
        "+ Retention (tỷ lệ giữ chân), Dmin =0.01\n",
        "+ Net Conversion(tỷ lệ chuyển đổi sang trả phí), Dmin = 0.0075\n",
        "\n",
        "#### **Estimating the baseline values of metrics**\n",
        "Trước khi thử nghiệm thì chúng ta nên biết những metric này như nào trước khi có sự thay đổi đó được gọi là **Giá trị baseline**\n",
        "\n",
        "| **Item**               | **Description**                                        | **Estimator** |\n",
        "|------------------------|--------------------------------------------------------|---------------|\n",
        "| Number of cookies      | Daily unique cookies to view course overview page      | 40,000        |\n",
        "| Number of clicks       | Daily unique cookies to click Free Trial button        | 3,200         |\n",
        "| Number of enrollments  | Free Trial enrollments per day                         | 660           |\n",
        "| CTP                    | CTP on Free Trial button                               | 0.08          |\n",
        "| Gross Conversion       | Probability of enrolling, given a click                | 0.20625       |\n",
        "| Retention              | Probability of payment, given enrollment               | 0.53          |\n",
        "| Net Conversion         | Probability of payment, given click                    | 0.109313      |\n",
        "\n"
      ],
      "metadata": {
        "id": "_-cjCLBmKugM"
      }
    },
    {
      "cell_type": "code",
      "execution_count": 4,
      "metadata": {
        "id": "wl80uhRYxjne"
      },
      "outputs": [],
      "source": [
        "import math\n",
        "import numpy as np\n",
        "import pandas as pd\n",
        "from scipy.stats import norm\n",
        "\n",
        "\n"
      ]
    },
    {
      "cell_type": "code",
      "source": [
        "def Standard_Deviation(p,n):\n",
        "  return math.sqrt(p*(1-p)/n)"
      ],
      "metadata": {
        "id": "hlraR-vXLrSc"
      },
      "execution_count": 5,
      "outputs": []
    },
    {
      "cell_type": "code",
      "source": [
        "ctr_data = pd.read_csv(\"/content/drive/MyDrive/A_B_Testing/Data/control_data.csv\")\n",
        "ctr_data.describe()"
      ],
      "metadata": {
        "colab": {
          "base_uri": "https://localhost:8080/",
          "height": 300
        },
        "id": "LvwQjLqfF8lI",
        "outputId": "60d0cefe-2db5-4a12-d3ab-aa0bcf7ac1b1"
      },
      "execution_count": 6,
      "outputs": [
        {
          "output_type": "execute_result",
          "data": {
            "text/plain": [
              "          Pageviews      Clicks  Enrollments    Payments\n",
              "count     37.000000   37.000000    23.000000   23.000000\n",
              "mean    9339.000000  766.972973   164.565217   88.391304\n",
              "std      740.239563   68.286767    29.977000   20.650202\n",
              "min     7434.000000  632.000000   110.000000   56.000000\n",
              "25%     8896.000000  708.000000   146.500000   70.000000\n",
              "50%     9420.000000  759.000000   162.000000   91.000000\n",
              "75%     9871.000000  825.000000   175.000000  102.500000\n",
              "max    10667.000000  909.000000   233.000000  128.000000"
            ],
            "text/html": [
              "\n",
              "  <div id=\"df-ca475598-f246-4cd9-8741-de609a5b78c7\" class=\"colab-df-container\">\n",
              "    <div>\n",
              "<style scoped>\n",
              "    .dataframe tbody tr th:only-of-type {\n",
              "        vertical-align: middle;\n",
              "    }\n",
              "\n",
              "    .dataframe tbody tr th {\n",
              "        vertical-align: top;\n",
              "    }\n",
              "\n",
              "    .dataframe thead th {\n",
              "        text-align: right;\n",
              "    }\n",
              "</style>\n",
              "<table border=\"1\" class=\"dataframe\">\n",
              "  <thead>\n",
              "    <tr style=\"text-align: right;\">\n",
              "      <th></th>\n",
              "      <th>Pageviews</th>\n",
              "      <th>Clicks</th>\n",
              "      <th>Enrollments</th>\n",
              "      <th>Payments</th>\n",
              "    </tr>\n",
              "  </thead>\n",
              "  <tbody>\n",
              "    <tr>\n",
              "      <th>count</th>\n",
              "      <td>37.000000</td>\n",
              "      <td>37.000000</td>\n",
              "      <td>23.000000</td>\n",
              "      <td>23.000000</td>\n",
              "    </tr>\n",
              "    <tr>\n",
              "      <th>mean</th>\n",
              "      <td>9339.000000</td>\n",
              "      <td>766.972973</td>\n",
              "      <td>164.565217</td>\n",
              "      <td>88.391304</td>\n",
              "    </tr>\n",
              "    <tr>\n",
              "      <th>std</th>\n",
              "      <td>740.239563</td>\n",
              "      <td>68.286767</td>\n",
              "      <td>29.977000</td>\n",
              "      <td>20.650202</td>\n",
              "    </tr>\n",
              "    <tr>\n",
              "      <th>min</th>\n",
              "      <td>7434.000000</td>\n",
              "      <td>632.000000</td>\n",
              "      <td>110.000000</td>\n",
              "      <td>56.000000</td>\n",
              "    </tr>\n",
              "    <tr>\n",
              "      <th>25%</th>\n",
              "      <td>8896.000000</td>\n",
              "      <td>708.000000</td>\n",
              "      <td>146.500000</td>\n",
              "      <td>70.000000</td>\n",
              "    </tr>\n",
              "    <tr>\n",
              "      <th>50%</th>\n",
              "      <td>9420.000000</td>\n",
              "      <td>759.000000</td>\n",
              "      <td>162.000000</td>\n",
              "      <td>91.000000</td>\n",
              "    </tr>\n",
              "    <tr>\n",
              "      <th>75%</th>\n",
              "      <td>9871.000000</td>\n",
              "      <td>825.000000</td>\n",
              "      <td>175.000000</td>\n",
              "      <td>102.500000</td>\n",
              "    </tr>\n",
              "    <tr>\n",
              "      <th>max</th>\n",
              "      <td>10667.000000</td>\n",
              "      <td>909.000000</td>\n",
              "      <td>233.000000</td>\n",
              "      <td>128.000000</td>\n",
              "    </tr>\n",
              "  </tbody>\n",
              "</table>\n",
              "</div>\n",
              "    <div class=\"colab-df-buttons\">\n",
              "\n",
              "  <div class=\"colab-df-container\">\n",
              "    <button class=\"colab-df-convert\" onclick=\"convertToInteractive('df-ca475598-f246-4cd9-8741-de609a5b78c7')\"\n",
              "            title=\"Convert this dataframe to an interactive table.\"\n",
              "            style=\"display:none;\">\n",
              "\n",
              "  <svg xmlns=\"http://www.w3.org/2000/svg\" height=\"24px\" viewBox=\"0 -960 960 960\">\n",
              "    <path d=\"M120-120v-720h720v720H120Zm60-500h600v-160H180v160Zm220 220h160v-160H400v160Zm0 220h160v-160H400v160ZM180-400h160v-160H180v160Zm440 0h160v-160H620v160ZM180-180h160v-160H180v160Zm440 0h160v-160H620v160Z\"/>\n",
              "  </svg>\n",
              "    </button>\n",
              "\n",
              "  <style>\n",
              "    .colab-df-container {\n",
              "      display:flex;\n",
              "      gap: 12px;\n",
              "    }\n",
              "\n",
              "    .colab-df-convert {\n",
              "      background-color: #E8F0FE;\n",
              "      border: none;\n",
              "      border-radius: 50%;\n",
              "      cursor: pointer;\n",
              "      display: none;\n",
              "      fill: #1967D2;\n",
              "      height: 32px;\n",
              "      padding: 0 0 0 0;\n",
              "      width: 32px;\n",
              "    }\n",
              "\n",
              "    .colab-df-convert:hover {\n",
              "      background-color: #E2EBFA;\n",
              "      box-shadow: 0px 1px 2px rgba(60, 64, 67, 0.3), 0px 1px 3px 1px rgba(60, 64, 67, 0.15);\n",
              "      fill: #174EA6;\n",
              "    }\n",
              "\n",
              "    .colab-df-buttons div {\n",
              "      margin-bottom: 4px;\n",
              "    }\n",
              "\n",
              "    [theme=dark] .colab-df-convert {\n",
              "      background-color: #3B4455;\n",
              "      fill: #D2E3FC;\n",
              "    }\n",
              "\n",
              "    [theme=dark] .colab-df-convert:hover {\n",
              "      background-color: #434B5C;\n",
              "      box-shadow: 0px 1px 3px 1px rgba(0, 0, 0, 0.15);\n",
              "      filter: drop-shadow(0px 1px 2px rgba(0, 0, 0, 0.3));\n",
              "      fill: #FFFFFF;\n",
              "    }\n",
              "  </style>\n",
              "\n",
              "    <script>\n",
              "      const buttonEl =\n",
              "        document.querySelector('#df-ca475598-f246-4cd9-8741-de609a5b78c7 button.colab-df-convert');\n",
              "      buttonEl.style.display =\n",
              "        google.colab.kernel.accessAllowed ? 'block' : 'none';\n",
              "\n",
              "      async function convertToInteractive(key) {\n",
              "        const element = document.querySelector('#df-ca475598-f246-4cd9-8741-de609a5b78c7');\n",
              "        const dataTable =\n",
              "          await google.colab.kernel.invokeFunction('convertToInteractive',\n",
              "                                                    [key], {});\n",
              "        if (!dataTable) return;\n",
              "\n",
              "        const docLinkHtml = 'Like what you see? Visit the ' +\n",
              "          '<a target=\"_blank\" href=https://colab.research.google.com/notebooks/data_table.ipynb>data table notebook</a>'\n",
              "          + ' to learn more about interactive tables.';\n",
              "        element.innerHTML = '';\n",
              "        dataTable['output_type'] = 'display_data';\n",
              "        await google.colab.output.renderOutput(dataTable, element);\n",
              "        const docLink = document.createElement('div');\n",
              "        docLink.innerHTML = docLinkHtml;\n",
              "        element.appendChild(docLink);\n",
              "      }\n",
              "    </script>\n",
              "  </div>\n",
              "\n",
              "\n",
              "    <div id=\"df-ebec0ea1-82f7-4490-b6d4-64dd4d423cf3\">\n",
              "      <button class=\"colab-df-quickchart\" onclick=\"quickchart('df-ebec0ea1-82f7-4490-b6d4-64dd4d423cf3')\"\n",
              "                title=\"Suggest charts\"\n",
              "                style=\"display:none;\">\n",
              "\n",
              "<svg xmlns=\"http://www.w3.org/2000/svg\" height=\"24px\"viewBox=\"0 0 24 24\"\n",
              "     width=\"24px\">\n",
              "    <g>\n",
              "        <path d=\"M19 3H5c-1.1 0-2 .9-2 2v14c0 1.1.9 2 2 2h14c1.1 0 2-.9 2-2V5c0-1.1-.9-2-2-2zM9 17H7v-7h2v7zm4 0h-2V7h2v10zm4 0h-2v-4h2v4z\"/>\n",
              "    </g>\n",
              "</svg>\n",
              "      </button>\n",
              "\n",
              "<style>\n",
              "  .colab-df-quickchart {\n",
              "      --bg-color: #E8F0FE;\n",
              "      --fill-color: #1967D2;\n",
              "      --hover-bg-color: #E2EBFA;\n",
              "      --hover-fill-color: #174EA6;\n",
              "      --disabled-fill-color: #AAA;\n",
              "      --disabled-bg-color: #DDD;\n",
              "  }\n",
              "\n",
              "  [theme=dark] .colab-df-quickchart {\n",
              "      --bg-color: #3B4455;\n",
              "      --fill-color: #D2E3FC;\n",
              "      --hover-bg-color: #434B5C;\n",
              "      --hover-fill-color: #FFFFFF;\n",
              "      --disabled-bg-color: #3B4455;\n",
              "      --disabled-fill-color: #666;\n",
              "  }\n",
              "\n",
              "  .colab-df-quickchart {\n",
              "    background-color: var(--bg-color);\n",
              "    border: none;\n",
              "    border-radius: 50%;\n",
              "    cursor: pointer;\n",
              "    display: none;\n",
              "    fill: var(--fill-color);\n",
              "    height: 32px;\n",
              "    padding: 0;\n",
              "    width: 32px;\n",
              "  }\n",
              "\n",
              "  .colab-df-quickchart:hover {\n",
              "    background-color: var(--hover-bg-color);\n",
              "    box-shadow: 0 1px 2px rgba(60, 64, 67, 0.3), 0 1px 3px 1px rgba(60, 64, 67, 0.15);\n",
              "    fill: var(--button-hover-fill-color);\n",
              "  }\n",
              "\n",
              "  .colab-df-quickchart-complete:disabled,\n",
              "  .colab-df-quickchart-complete:disabled:hover {\n",
              "    background-color: var(--disabled-bg-color);\n",
              "    fill: var(--disabled-fill-color);\n",
              "    box-shadow: none;\n",
              "  }\n",
              "\n",
              "  .colab-df-spinner {\n",
              "    border: 2px solid var(--fill-color);\n",
              "    border-color: transparent;\n",
              "    border-bottom-color: var(--fill-color);\n",
              "    animation:\n",
              "      spin 1s steps(1) infinite;\n",
              "  }\n",
              "\n",
              "  @keyframes spin {\n",
              "    0% {\n",
              "      border-color: transparent;\n",
              "      border-bottom-color: var(--fill-color);\n",
              "      border-left-color: var(--fill-color);\n",
              "    }\n",
              "    20% {\n",
              "      border-color: transparent;\n",
              "      border-left-color: var(--fill-color);\n",
              "      border-top-color: var(--fill-color);\n",
              "    }\n",
              "    30% {\n",
              "      border-color: transparent;\n",
              "      border-left-color: var(--fill-color);\n",
              "      border-top-color: var(--fill-color);\n",
              "      border-right-color: var(--fill-color);\n",
              "    }\n",
              "    40% {\n",
              "      border-color: transparent;\n",
              "      border-right-color: var(--fill-color);\n",
              "      border-top-color: var(--fill-color);\n",
              "    }\n",
              "    60% {\n",
              "      border-color: transparent;\n",
              "      border-right-color: var(--fill-color);\n",
              "    }\n",
              "    80% {\n",
              "      border-color: transparent;\n",
              "      border-right-color: var(--fill-color);\n",
              "      border-bottom-color: var(--fill-color);\n",
              "    }\n",
              "    90% {\n",
              "      border-color: transparent;\n",
              "      border-bottom-color: var(--fill-color);\n",
              "    }\n",
              "  }\n",
              "</style>\n",
              "\n",
              "      <script>\n",
              "        async function quickchart(key) {\n",
              "          const quickchartButtonEl =\n",
              "            document.querySelector('#' + key + ' button');\n",
              "          quickchartButtonEl.disabled = true;  // To prevent multiple clicks.\n",
              "          quickchartButtonEl.classList.add('colab-df-spinner');\n",
              "          try {\n",
              "            const charts = await google.colab.kernel.invokeFunction(\n",
              "                'suggestCharts', [key], {});\n",
              "          } catch (error) {\n",
              "            console.error('Error during call to suggestCharts:', error);\n",
              "          }\n",
              "          quickchartButtonEl.classList.remove('colab-df-spinner');\n",
              "          quickchartButtonEl.classList.add('colab-df-quickchart-complete');\n",
              "        }\n",
              "        (() => {\n",
              "          let quickchartButtonEl =\n",
              "            document.querySelector('#df-ebec0ea1-82f7-4490-b6d4-64dd4d423cf3 button');\n",
              "          quickchartButtonEl.style.display =\n",
              "            google.colab.kernel.accessAllowed ? 'block' : 'none';\n",
              "        })();\n",
              "      </script>\n",
              "    </div>\n",
              "\n",
              "    </div>\n",
              "  </div>\n"
            ],
            "application/vnd.google.colaboratory.intrinsic+json": {
              "type": "dataframe",
              "summary": "{\n  \"name\": \"ctr_data\",\n  \"rows\": 8,\n  \"fields\": [\n    {\n      \"column\": \"Pageviews\",\n      \"properties\": {\n        \"dtype\": \"number\",\n        \"std\": 4216.423103625292,\n        \"min\": 37.0,\n        \"max\": 10667.0,\n        \"num_unique_values\": 8,\n        \"samples\": [\n          9339.0,\n          9420.0,\n          37.0\n        ],\n        \"semantic_type\": \"\",\n        \"description\": \"\"\n      }\n    },\n    {\n      \"column\": \"Clicks\",\n      \"properties\": {\n        \"dtype\": \"number\",\n        \"std\": 340.2774017460885,\n        \"min\": 37.0,\n        \"max\": 909.0,\n        \"num_unique_values\": 8,\n        \"samples\": [\n          766.972972972973,\n          759.0,\n          37.0\n        ],\n        \"semantic_type\": \"\",\n        \"description\": \"\"\n      }\n    },\n    {\n      \"column\": \"Enrollments\",\n      \"properties\": {\n        \"dtype\": \"number\",\n        \"std\": 72.67988743253113,\n        \"min\": 23.0,\n        \"max\": 233.0,\n        \"num_unique_values\": 8,\n        \"samples\": [\n          164.56521739130434,\n          162.0,\n          23.0\n        ],\n        \"semantic_type\": \"\",\n        \"description\": \"\"\n      }\n    },\n    {\n      \"column\": \"Payments\",\n      \"properties\": {\n        \"dtype\": \"number\",\n        \"std\": 37.7816260352408,\n        \"min\": 20.650201694887283,\n        \"max\": 128.0,\n        \"num_unique_values\": 8,\n        \"samples\": [\n          88.3913043478261,\n          91.0,\n          23.0\n        ],\n        \"semantic_type\": \"\",\n        \"description\": \"\"\n      }\n    }\n  ]\n}"
            }
          },
          "metadata": {},
          "execution_count": 6
        }
      ]
    },
    {
      "cell_type": "markdown",
      "source": [
        "Như chúng ta thấy, sẽ có một số record sẽ bị null ở côt enrollment, payment.\n",
        "\n",
        "Việc thiếu dữ liệu này cũng dễ hiểu vì:\n",
        "\n",
        "Pageviews và clicks thường được ghi nhận ngay khi người dùng truy cập, nên có thể ghi nhận đủ 39 ngày.\n",
        "\n",
        "Enrollments và payments lại chỉ được ghi nhận sau khi người dùng đã click và trải qua một giai đoạn dùng thử (free trial), nên chỉ có dữ liệu từ 23 ngày đầu — tức là:\n",
        "\n",
        "Hệ quả tự nhiên của việc người dùng cần thời gian (ví dụ 14 ngày) để chuyển từ click → enroll → payment.\n",
        "\n",
        "Vì vậy khi phân tích đến enrollment, payment thì ta sẽ so sánh ta cần lấy những record có đầy đủ dữ liệu"
      ],
      "metadata": {
        "id": "3yLXEoJtTHow"
      }
    },
    {
      "cell_type": "code",
      "source": [
        "ctr_data.dtypes"
      ],
      "metadata": {
        "colab": {
          "base_uri": "https://localhost:8080/",
          "height": 241
        },
        "id": "uksoOwD3-KX4",
        "outputId": "1e5ba07b-9621-4d09-dc50-5a07f18a8a6f"
      },
      "execution_count": 7,
      "outputs": [
        {
          "output_type": "execute_result",
          "data": {
            "text/plain": [
              "Date            object\n",
              "Pageviews        int64\n",
              "Clicks           int64\n",
              "Enrollments    float64\n",
              "Payments       float64\n",
              "dtype: object"
            ],
            "text/html": [
              "<div>\n",
              "<style scoped>\n",
              "    .dataframe tbody tr th:only-of-type {\n",
              "        vertical-align: middle;\n",
              "    }\n",
              "\n",
              "    .dataframe tbody tr th {\n",
              "        vertical-align: top;\n",
              "    }\n",
              "\n",
              "    .dataframe thead th {\n",
              "        text-align: right;\n",
              "    }\n",
              "</style>\n",
              "<table border=\"1\" class=\"dataframe\">\n",
              "  <thead>\n",
              "    <tr style=\"text-align: right;\">\n",
              "      <th></th>\n",
              "      <th>0</th>\n",
              "    </tr>\n",
              "  </thead>\n",
              "  <tbody>\n",
              "    <tr>\n",
              "      <th>Date</th>\n",
              "      <td>object</td>\n",
              "    </tr>\n",
              "    <tr>\n",
              "      <th>Pageviews</th>\n",
              "      <td>int64</td>\n",
              "    </tr>\n",
              "    <tr>\n",
              "      <th>Clicks</th>\n",
              "      <td>int64</td>\n",
              "    </tr>\n",
              "    <tr>\n",
              "      <th>Enrollments</th>\n",
              "      <td>float64</td>\n",
              "    </tr>\n",
              "    <tr>\n",
              "      <th>Payments</th>\n",
              "      <td>float64</td>\n",
              "    </tr>\n",
              "  </tbody>\n",
              "</table>\n",
              "</div><br><label><b>dtype:</b> object</label>"
            ]
          },
          "metadata": {},
          "execution_count": 7
        }
      ]
    },
    {
      "cell_type": "markdown",
      "source": [
        "Vì ta k có sử dụng đến cột date nên ta k cần fomart thành dạng date"
      ],
      "metadata": {
        "id": "r-9cJD_OUuVR"
      }
    },
    {
      "cell_type": "code",
      "source": [
        "exp_data = pd.read_csv(\"/content/drive/MyDrive/A_B_Testing/Data/experiment_data.csv\")\n",
        "exp_data.describe()"
      ],
      "metadata": {
        "id": "WuB3Ut5cGEAv",
        "colab": {
          "base_uri": "https://localhost:8080/",
          "height": 300
        },
        "outputId": "4020cfe7-32c0-473d-cced-3f1b9cea96e2"
      },
      "execution_count": 8,
      "outputs": [
        {
          "output_type": "execute_result",
          "data": {
            "text/plain": [
              "          Pageviews      Clicks  Enrollments    Payments\n",
              "count     37.000000   37.000000    23.000000   23.000000\n",
              "mean    9315.135135  765.540541   148.826087   84.565217\n",
              "std      708.070781   64.578374    33.234227   23.060841\n",
              "min     7664.000000  642.000000    94.000000   34.000000\n",
              "25%     8881.000000  722.000000   127.000000   69.000000\n",
              "50%     9359.000000  770.000000   142.000000   91.000000\n",
              "75%     9737.000000  827.000000   172.000000   99.000000\n",
              "max    10551.000000  884.000000   213.000000  123.000000"
            ],
            "text/html": [
              "\n",
              "  <div id=\"df-fd6d73e5-d2f6-4180-bac7-dd2751edc698\" class=\"colab-df-container\">\n",
              "    <div>\n",
              "<style scoped>\n",
              "    .dataframe tbody tr th:only-of-type {\n",
              "        vertical-align: middle;\n",
              "    }\n",
              "\n",
              "    .dataframe tbody tr th {\n",
              "        vertical-align: top;\n",
              "    }\n",
              "\n",
              "    .dataframe thead th {\n",
              "        text-align: right;\n",
              "    }\n",
              "</style>\n",
              "<table border=\"1\" class=\"dataframe\">\n",
              "  <thead>\n",
              "    <tr style=\"text-align: right;\">\n",
              "      <th></th>\n",
              "      <th>Pageviews</th>\n",
              "      <th>Clicks</th>\n",
              "      <th>Enrollments</th>\n",
              "      <th>Payments</th>\n",
              "    </tr>\n",
              "  </thead>\n",
              "  <tbody>\n",
              "    <tr>\n",
              "      <th>count</th>\n",
              "      <td>37.000000</td>\n",
              "      <td>37.000000</td>\n",
              "      <td>23.000000</td>\n",
              "      <td>23.000000</td>\n",
              "    </tr>\n",
              "    <tr>\n",
              "      <th>mean</th>\n",
              "      <td>9315.135135</td>\n",
              "      <td>765.540541</td>\n",
              "      <td>148.826087</td>\n",
              "      <td>84.565217</td>\n",
              "    </tr>\n",
              "    <tr>\n",
              "      <th>std</th>\n",
              "      <td>708.070781</td>\n",
              "      <td>64.578374</td>\n",
              "      <td>33.234227</td>\n",
              "      <td>23.060841</td>\n",
              "    </tr>\n",
              "    <tr>\n",
              "      <th>min</th>\n",
              "      <td>7664.000000</td>\n",
              "      <td>642.000000</td>\n",
              "      <td>94.000000</td>\n",
              "      <td>34.000000</td>\n",
              "    </tr>\n",
              "    <tr>\n",
              "      <th>25%</th>\n",
              "      <td>8881.000000</td>\n",
              "      <td>722.000000</td>\n",
              "      <td>127.000000</td>\n",
              "      <td>69.000000</td>\n",
              "    </tr>\n",
              "    <tr>\n",
              "      <th>50%</th>\n",
              "      <td>9359.000000</td>\n",
              "      <td>770.000000</td>\n",
              "      <td>142.000000</td>\n",
              "      <td>91.000000</td>\n",
              "    </tr>\n",
              "    <tr>\n",
              "      <th>75%</th>\n",
              "      <td>9737.000000</td>\n",
              "      <td>827.000000</td>\n",
              "      <td>172.000000</td>\n",
              "      <td>99.000000</td>\n",
              "    </tr>\n",
              "    <tr>\n",
              "      <th>max</th>\n",
              "      <td>10551.000000</td>\n",
              "      <td>884.000000</td>\n",
              "      <td>213.000000</td>\n",
              "      <td>123.000000</td>\n",
              "    </tr>\n",
              "  </tbody>\n",
              "</table>\n",
              "</div>\n",
              "    <div class=\"colab-df-buttons\">\n",
              "\n",
              "  <div class=\"colab-df-container\">\n",
              "    <button class=\"colab-df-convert\" onclick=\"convertToInteractive('df-fd6d73e5-d2f6-4180-bac7-dd2751edc698')\"\n",
              "            title=\"Convert this dataframe to an interactive table.\"\n",
              "            style=\"display:none;\">\n",
              "\n",
              "  <svg xmlns=\"http://www.w3.org/2000/svg\" height=\"24px\" viewBox=\"0 -960 960 960\">\n",
              "    <path d=\"M120-120v-720h720v720H120Zm60-500h600v-160H180v160Zm220 220h160v-160H400v160Zm0 220h160v-160H400v160ZM180-400h160v-160H180v160Zm440 0h160v-160H620v160ZM180-180h160v-160H180v160Zm440 0h160v-160H620v160Z\"/>\n",
              "  </svg>\n",
              "    </button>\n",
              "\n",
              "  <style>\n",
              "    .colab-df-container {\n",
              "      display:flex;\n",
              "      gap: 12px;\n",
              "    }\n",
              "\n",
              "    .colab-df-convert {\n",
              "      background-color: #E8F0FE;\n",
              "      border: none;\n",
              "      border-radius: 50%;\n",
              "      cursor: pointer;\n",
              "      display: none;\n",
              "      fill: #1967D2;\n",
              "      height: 32px;\n",
              "      padding: 0 0 0 0;\n",
              "      width: 32px;\n",
              "    }\n",
              "\n",
              "    .colab-df-convert:hover {\n",
              "      background-color: #E2EBFA;\n",
              "      box-shadow: 0px 1px 2px rgba(60, 64, 67, 0.3), 0px 1px 3px 1px rgba(60, 64, 67, 0.15);\n",
              "      fill: #174EA6;\n",
              "    }\n",
              "\n",
              "    .colab-df-buttons div {\n",
              "      margin-bottom: 4px;\n",
              "    }\n",
              "\n",
              "    [theme=dark] .colab-df-convert {\n",
              "      background-color: #3B4455;\n",
              "      fill: #D2E3FC;\n",
              "    }\n",
              "\n",
              "    [theme=dark] .colab-df-convert:hover {\n",
              "      background-color: #434B5C;\n",
              "      box-shadow: 0px 1px 3px 1px rgba(0, 0, 0, 0.15);\n",
              "      filter: drop-shadow(0px 1px 2px rgba(0, 0, 0, 0.3));\n",
              "      fill: #FFFFFF;\n",
              "    }\n",
              "  </style>\n",
              "\n",
              "    <script>\n",
              "      const buttonEl =\n",
              "        document.querySelector('#df-fd6d73e5-d2f6-4180-bac7-dd2751edc698 button.colab-df-convert');\n",
              "      buttonEl.style.display =\n",
              "        google.colab.kernel.accessAllowed ? 'block' : 'none';\n",
              "\n",
              "      async function convertToInteractive(key) {\n",
              "        const element = document.querySelector('#df-fd6d73e5-d2f6-4180-bac7-dd2751edc698');\n",
              "        const dataTable =\n",
              "          await google.colab.kernel.invokeFunction('convertToInteractive',\n",
              "                                                    [key], {});\n",
              "        if (!dataTable) return;\n",
              "\n",
              "        const docLinkHtml = 'Like what you see? Visit the ' +\n",
              "          '<a target=\"_blank\" href=https://colab.research.google.com/notebooks/data_table.ipynb>data table notebook</a>'\n",
              "          + ' to learn more about interactive tables.';\n",
              "        element.innerHTML = '';\n",
              "        dataTable['output_type'] = 'display_data';\n",
              "        await google.colab.output.renderOutput(dataTable, element);\n",
              "        const docLink = document.createElement('div');\n",
              "        docLink.innerHTML = docLinkHtml;\n",
              "        element.appendChild(docLink);\n",
              "      }\n",
              "    </script>\n",
              "  </div>\n",
              "\n",
              "\n",
              "    <div id=\"df-bb545da9-52a4-48f6-b2b8-e82857a4e388\">\n",
              "      <button class=\"colab-df-quickchart\" onclick=\"quickchart('df-bb545da9-52a4-48f6-b2b8-e82857a4e388')\"\n",
              "                title=\"Suggest charts\"\n",
              "                style=\"display:none;\">\n",
              "\n",
              "<svg xmlns=\"http://www.w3.org/2000/svg\" height=\"24px\"viewBox=\"0 0 24 24\"\n",
              "     width=\"24px\">\n",
              "    <g>\n",
              "        <path d=\"M19 3H5c-1.1 0-2 .9-2 2v14c0 1.1.9 2 2 2h14c1.1 0 2-.9 2-2V5c0-1.1-.9-2-2-2zM9 17H7v-7h2v7zm4 0h-2V7h2v10zm4 0h-2v-4h2v4z\"/>\n",
              "    </g>\n",
              "</svg>\n",
              "      </button>\n",
              "\n",
              "<style>\n",
              "  .colab-df-quickchart {\n",
              "      --bg-color: #E8F0FE;\n",
              "      --fill-color: #1967D2;\n",
              "      --hover-bg-color: #E2EBFA;\n",
              "      --hover-fill-color: #174EA6;\n",
              "      --disabled-fill-color: #AAA;\n",
              "      --disabled-bg-color: #DDD;\n",
              "  }\n",
              "\n",
              "  [theme=dark] .colab-df-quickchart {\n",
              "      --bg-color: #3B4455;\n",
              "      --fill-color: #D2E3FC;\n",
              "      --hover-bg-color: #434B5C;\n",
              "      --hover-fill-color: #FFFFFF;\n",
              "      --disabled-bg-color: #3B4455;\n",
              "      --disabled-fill-color: #666;\n",
              "  }\n",
              "\n",
              "  .colab-df-quickchart {\n",
              "    background-color: var(--bg-color);\n",
              "    border: none;\n",
              "    border-radius: 50%;\n",
              "    cursor: pointer;\n",
              "    display: none;\n",
              "    fill: var(--fill-color);\n",
              "    height: 32px;\n",
              "    padding: 0;\n",
              "    width: 32px;\n",
              "  }\n",
              "\n",
              "  .colab-df-quickchart:hover {\n",
              "    background-color: var(--hover-bg-color);\n",
              "    box-shadow: 0 1px 2px rgba(60, 64, 67, 0.3), 0 1px 3px 1px rgba(60, 64, 67, 0.15);\n",
              "    fill: var(--button-hover-fill-color);\n",
              "  }\n",
              "\n",
              "  .colab-df-quickchart-complete:disabled,\n",
              "  .colab-df-quickchart-complete:disabled:hover {\n",
              "    background-color: var(--disabled-bg-color);\n",
              "    fill: var(--disabled-fill-color);\n",
              "    box-shadow: none;\n",
              "  }\n",
              "\n",
              "  .colab-df-spinner {\n",
              "    border: 2px solid var(--fill-color);\n",
              "    border-color: transparent;\n",
              "    border-bottom-color: var(--fill-color);\n",
              "    animation:\n",
              "      spin 1s steps(1) infinite;\n",
              "  }\n",
              "\n",
              "  @keyframes spin {\n",
              "    0% {\n",
              "      border-color: transparent;\n",
              "      border-bottom-color: var(--fill-color);\n",
              "      border-left-color: var(--fill-color);\n",
              "    }\n",
              "    20% {\n",
              "      border-color: transparent;\n",
              "      border-left-color: var(--fill-color);\n",
              "      border-top-color: var(--fill-color);\n",
              "    }\n",
              "    30% {\n",
              "      border-color: transparent;\n",
              "      border-left-color: var(--fill-color);\n",
              "      border-top-color: var(--fill-color);\n",
              "      border-right-color: var(--fill-color);\n",
              "    }\n",
              "    40% {\n",
              "      border-color: transparent;\n",
              "      border-right-color: var(--fill-color);\n",
              "      border-top-color: var(--fill-color);\n",
              "    }\n",
              "    60% {\n",
              "      border-color: transparent;\n",
              "      border-right-color: var(--fill-color);\n",
              "    }\n",
              "    80% {\n",
              "      border-color: transparent;\n",
              "      border-right-color: var(--fill-color);\n",
              "      border-bottom-color: var(--fill-color);\n",
              "    }\n",
              "    90% {\n",
              "      border-color: transparent;\n",
              "      border-bottom-color: var(--fill-color);\n",
              "    }\n",
              "  }\n",
              "</style>\n",
              "\n",
              "      <script>\n",
              "        async function quickchart(key) {\n",
              "          const quickchartButtonEl =\n",
              "            document.querySelector('#' + key + ' button');\n",
              "          quickchartButtonEl.disabled = true;  // To prevent multiple clicks.\n",
              "          quickchartButtonEl.classList.add('colab-df-spinner');\n",
              "          try {\n",
              "            const charts = await google.colab.kernel.invokeFunction(\n",
              "                'suggestCharts', [key], {});\n",
              "          } catch (error) {\n",
              "            console.error('Error during call to suggestCharts:', error);\n",
              "          }\n",
              "          quickchartButtonEl.classList.remove('colab-df-spinner');\n",
              "          quickchartButtonEl.classList.add('colab-df-quickchart-complete');\n",
              "        }\n",
              "        (() => {\n",
              "          let quickchartButtonEl =\n",
              "            document.querySelector('#df-bb545da9-52a4-48f6-b2b8-e82857a4e388 button');\n",
              "          quickchartButtonEl.style.display =\n",
              "            google.colab.kernel.accessAllowed ? 'block' : 'none';\n",
              "        })();\n",
              "      </script>\n",
              "    </div>\n",
              "\n",
              "    </div>\n",
              "  </div>\n"
            ],
            "application/vnd.google.colaboratory.intrinsic+json": {
              "type": "dataframe",
              "summary": "{\n  \"name\": \"exp_data\",\n  \"rows\": 8,\n  \"fields\": [\n    {\n      \"column\": \"Pageviews\",\n      \"properties\": {\n        \"dtype\": \"number\",\n        \"std\": 4192.993305332148,\n        \"min\": 37.0,\n        \"max\": 10551.0,\n        \"num_unique_values\": 8,\n        \"samples\": [\n          9315.135135135135,\n          9359.0,\n          37.0\n        ],\n        \"semantic_type\": \"\",\n        \"description\": \"\"\n      }\n    },\n    {\n      \"column\": \"Clicks\",\n      \"properties\": {\n        \"dtype\": \"number\",\n        \"std\": 339.70924599109355,\n        \"min\": 37.0,\n        \"max\": 884.0,\n        \"num_unique_values\": 8,\n        \"samples\": [\n          765.5405405405405,\n          770.0,\n          37.0\n        ],\n        \"semantic_type\": \"\",\n        \"description\": \"\"\n      }\n    },\n    {\n      \"column\": \"Enrollments\",\n      \"properties\": {\n        \"dtype\": \"number\",\n        \"std\": 65.81817245240823,\n        \"min\": 23.0,\n        \"max\": 213.0,\n        \"num_unique_values\": 8,\n        \"samples\": [\n          148.82608695652175,\n          142.0,\n          23.0\n        ],\n        \"semantic_type\": \"\",\n        \"description\": \"\"\n      }\n    },\n    {\n      \"column\": \"Payments\",\n      \"properties\": {\n        \"dtype\": \"number\",\n        \"std\": 37.77768133168769,\n        \"min\": 23.0,\n        \"max\": 123.0,\n        \"num_unique_values\": 8,\n        \"samples\": [\n          84.56521739130434,\n          91.0,\n          23.0\n        ],\n        \"semantic_type\": \"\",\n        \"description\": \"\"\n      }\n    }\n  ]\n}"
            }
          },
          "metadata": {},
          "execution_count": 8
        }
      ]
    },
    {
      "cell_type": "code",
      "source": [
        "exp_data.dtypes"
      ],
      "metadata": {
        "colab": {
          "base_uri": "https://localhost:8080/",
          "height": 241
        },
        "id": "LFHTpgHXV5nv",
        "outputId": "048ff8f5-1646-466a-a980-97dcd4d3bab9"
      },
      "execution_count": 9,
      "outputs": [
        {
          "output_type": "execute_result",
          "data": {
            "text/plain": [
              "Date            object\n",
              "Pageviews        int64\n",
              "Clicks           int64\n",
              "Enrollments    float64\n",
              "Payments       float64\n",
              "dtype: object"
            ],
            "text/html": [
              "<div>\n",
              "<style scoped>\n",
              "    .dataframe tbody tr th:only-of-type {\n",
              "        vertical-align: middle;\n",
              "    }\n",
              "\n",
              "    .dataframe tbody tr th {\n",
              "        vertical-align: top;\n",
              "    }\n",
              "\n",
              "    .dataframe thead th {\n",
              "        text-align: right;\n",
              "    }\n",
              "</style>\n",
              "<table border=\"1\" class=\"dataframe\">\n",
              "  <thead>\n",
              "    <tr style=\"text-align: right;\">\n",
              "      <th></th>\n",
              "      <th>0</th>\n",
              "    </tr>\n",
              "  </thead>\n",
              "  <tbody>\n",
              "    <tr>\n",
              "      <th>Date</th>\n",
              "      <td>object</td>\n",
              "    </tr>\n",
              "    <tr>\n",
              "      <th>Pageviews</th>\n",
              "      <td>int64</td>\n",
              "    </tr>\n",
              "    <tr>\n",
              "      <th>Clicks</th>\n",
              "      <td>int64</td>\n",
              "    </tr>\n",
              "    <tr>\n",
              "      <th>Enrollments</th>\n",
              "      <td>float64</td>\n",
              "    </tr>\n",
              "    <tr>\n",
              "      <th>Payments</th>\n",
              "      <td>float64</td>\n",
              "    </tr>\n",
              "  </tbody>\n",
              "</table>\n",
              "</div><br><label><b>dtype:</b> object</label>"
            ]
          },
          "metadata": {},
          "execution_count": 9
        }
      ]
    },
    {
      "cell_type": "code",
      "source": [
        "#chúng ta sẽ thêm baseline vào một dictionary để một tý sử dụng để so sánh nhé\n",
        "baseline = {\"Cookies\":40000,\"Clicks\":3200,\"Enrollments\":660,\"CTP\":0.08,\"GConversion\":0.20625,\n",
        "           \"Retention\":0.53,\"NConversion\":0.109313}"
      ],
      "metadata": {
        "id": "IDTMUaF6912A"
      },
      "execution_count": 10,
      "outputs": []
    },
    {
      "cell_type": "markdown",
      "source": [
        "###**Ước lượng độ lệch chuẩn (Standard Deviation) - SD**\n",
        "Độ lệch chuẩn có liên quan đến sample size và confidence interval\n",
        "\n",
        "Ví dụ như : độ lệch chuẩn càng lớn thì độ tin cậy của kết quả càng thấp vì thế ta cần mẫu( sample size) lớn hơn\n",
        "\n",
        "Giả định rằng mỗi ngày có 5,000 cookies truy cập trang giới thiệu khóa học, chúng ta cần ước tính SD cho evaluation metrics. Sample size cần tính nên nhỏ hơn tổng số liệu gốc (population) đã thu thập.\n",
        "Tiếp theo ta cần scale các metrics\n",
        "###**Scaling**"
      ],
      "metadata": {
        "id": "5Pe-amjK-Tdb"
      }
    },
    {
      "cell_type": "code",
      "source": [
        "baseline['Cookies'] = 5000\n",
        "baseline['Clicks']=baseline['Clicks']*(5000/40000)\n",
        "baseline['Enrollments']=baseline['Enrollments']*(5000/40000)\n",
        "baseline\n"
      ],
      "metadata": {
        "id": "di_cN-e8-dX2",
        "colab": {
          "base_uri": "https://localhost:8080/"
        },
        "outputId": "056b1bb2-1a39-43ab-8786-01354a88b310"
      },
      "execution_count": 11,
      "outputs": [
        {
          "output_type": "execute_result",
          "data": {
            "text/plain": [
              "{'Cookies': 5000,\n",
              " 'Clicks': 400.0,\n",
              " 'Enrollments': 82.5,\n",
              " 'CTP': 0.08,\n",
              " 'GConversion': 0.20625,\n",
              " 'Retention': 0.53,\n",
              " 'NConversion': 0.109313}"
            ]
          },
          "metadata": {},
          "execution_count": 11
        }
      ]
    },
    {
      "cell_type": "markdown",
      "source": [
        "###**Estimating Analytically**\n",
        "Chúng ta sẽ ước lượng SD bằng công thức toán học thay vì mô phỏng thực nghiệm (bootstrap), thì đó gọi là estimating analytically.\n",
        "\n",
        "Đối với các metric là xác suất thì phân phối của chúng là phân phối nhị thức (biomially distributed), vì thế ta có thể sử dụng cthuc tính SD dưới đây:\n",
        "\n",
        "### Công thức tính độ lệch chuẩn (Standard Deviation - SD):\n",
        "\n",
        "$$\n",
        "\\text{SD} = \\sqrt{\\frac{p(1 - p)}{n}}\n",
        "$$\n",
        "\n",
        "Trong đó:\n",
        "\n",
        "- `p` là tỷ lệ (ví dụ: tỷ lệ chuyển đổi baseline)\n",
        "- `n` là số mẫu (ví dụ: số người click)\n",
        "\n",
        "Giả định phương sai phân phối nhị phân (binomial variance) chỉ hợp lệ khi:\n",
        "\n",
        "“Unit of Diversion” (đơn vị chia nhóm) bằng với\n",
        "\n",
        "“Unit of Analysis” (đơn vị dùng để tính toán metric – mẫu số trong công thức chỉ số)\n",
        "\n",
        "**Gross Conversion**\n",
        "= Số người dùng đăng ký dùng thử / Số cookie đã nhấp vào nút dùng thử.\n",
        "Hay nói cách khác, đây là xác suất một người đăng ký sau khi đã nhấp chuột."
      ],
      "metadata": {
        "id": "SyvIO1Qb1_nq"
      }
    },
    {
      "cell_type": "code",
      "source": [
        "#Bây giờ ta sẽ tính SD của GC trước nhé\n",
        "GC = {}\n",
        "GC['d_min'] = 0.01\n",
        "GC['p'] = baseline['Enrollments']/baseline['Clicks']\n",
        "GC['n'] = baseline['Clicks']\n",
        "GC['sd'] = round(Standard_Deviation(GC['p'],GC['n']),4)\n",
        "GC"
      ],
      "metadata": {
        "colab": {
          "base_uri": "https://localhost:8080/"
        },
        "id": "SvRvlM2G18H5",
        "outputId": "9b231484-d98c-4863-bd24-6393102b6ef9"
      },
      "execution_count": 12,
      "outputs": [
        {
          "output_type": "execute_result",
          "data": {
            "text/plain": [
              "{'d_min': 0.01, 'p': 0.20625, 'n': 400.0, 'sd': 0.0202}"
            ]
          },
          "metadata": {},
          "execution_count": 12
        }
      ]
    },
    {
      "cell_type": "markdown",
      "source": [
        "**Retention** = No. Paying users(enrolled after 14 days)/ No. total enrrolled users.Tức là = số người trả tiền / số người đã đăng ký (enrolled)\n",
        "\n",
        "Nhưng có một điều lưu ý rằng the sample size là số user đăng ký. Trong trường hợp này, unit of diversion và unit of analysis không bằng nhau nên việc ước lượng phương sai (variance) bằng công thức phân tích thông thường sẽ không đủ chính xác.\n",
        "\n",
        "Nếu có dữ liệu thực tế đầy đủ, ta nên ước lượng phương sai bằng phương pháp thực nghiệm (empirically)."
      ],
      "metadata": {
        "id": "f8WxnF6pU7T1"
      }
    },
    {
      "cell_type": "code",
      "source": [
        "R= {}\n",
        "R['d_min'] = 0.01\n",
        "R['p'] = baseline['Retention']\n",
        "R['n'] = baseline['Enrollments']\n",
        "R['sd'] = round(Standard_Deviation(R['p'],R['n']),4)\n",
        "R['sd']"
      ],
      "metadata": {
        "id": "jb_azty1QN8G",
        "colab": {
          "base_uri": "https://localhost:8080/"
        },
        "outputId": "031faabd-96af-4d49-cf51-1671f844fc6c"
      },
      "execution_count": 13,
      "outputs": [
        {
          "output_type": "execute_result",
          "data": {
            "text/plain": [
              "0.0549"
            ]
          },
          "metadata": {},
          "execution_count": 13
        }
      ]
    },
    {
      "cell_type": "markdown",
      "source": [
        "Net Conversion =\n",
        "Số người đã thanh toán / Số cookie đã nhấp vào nút dùng thử\n",
        "\n",
        "→ Tức là: Xác suất một người sẽ thanh toán sau khi đã nhấp chuột vào nút dùng thử.\n",
        "\n",
        "Lúc này sample size là số cookie đã nhấp vào nút Free Trial. Do đó Unit of analysis và unit of diversion có giống nhau. Nên kết quả ước lượng sẽ khá chính xác.\n"
      ],
      "metadata": {
        "id": "HyZPJHGXjm8s"
      }
    },
    {
      "cell_type": "code",
      "source": [
        "# Tính Net Conversion (NC)\n",
        "NC = {}\n",
        "NC['d_min'] = 0.0075\n",
        "NC['p'] = baseline['NConversion']\n",
        "NC['n'] = baseline['Clicks']\n",
        "NC['sd'] = round(Standard_Deviation(NC['p'],NC['n']),4)\n",
        "NC['sd']"
      ],
      "metadata": {
        "colab": {
          "base_uri": "https://localhost:8080/"
        },
        "id": "iusK8Mrig9-T",
        "outputId": "0e759977-280a-4eeb-824e-2109ae860ed1"
      },
      "execution_count": 14,
      "outputs": [
        {
          "output_type": "execute_result",
          "data": {
            "text/plain": [
              "0.0156"
            ]
          },
          "metadata": {},
          "execution_count": 14
        }
      ]
    },
    {
      "cell_type": "markdown",
      "source": [
        "###**Experiment Sizing**\n",
        "Phần này chúng ta cần tính số lượng mẫu tối thiểu n cần cho mỗi nhóm để kiểm tra giả thuyết rằng có một sự khác biệt có ý nghĩa thực tiễn (d, tức là Dmin) giữa hai nhóm.\n",
        "\n",
        "$$\n",
        "n = \\frac{\\left(Z_{1 - \\frac{\\alpha}{2}} \\cdot sd_1 + Z_{1 - \\beta} \\cdot sd_2\\right)^2}{d^2}\n",
        "$$\n",
        "\n",
        "**with:**\n",
        "\n",
        "$$\n",
        "sd_1 = \\sqrt{p(1 - p) + p(1 - p)}\n",
        "$$\n",
        "\n",
        "$$\n",
        "sd_2 = \\sqrt{p(1 - p) + (p + d)\\left(1 - (p + d)\\right)}\n",
        "$$\n",
        "\n",
        "trong đó:\n",
        "- sd 1:Độ lệch chuẩn với baseline (giá trị ban đầu)\n",
        "- sd 2: Độ lệch chuẩn với tỷ lệ sau thay đổi (có d)\n",
        "###**Tính z-score và standard deviations**"
      ],
      "metadata": {
        "id": "aPrrWbXdU63r"
      }
    },
    {
      "cell_type": "code",
      "source": [
        "def get_sds(p,d):\n",
        "  sd1 = math.sqrt(2*p*(1-p))\n",
        "  sd2 = math.sqrt(p*(1-p)+(p+d)*(1-(p+d)))\n",
        "  sds = [sd1,sd2]\n",
        "  return sds\n",
        "\n",
        "def get_z_score(alpha):\n",
        "  return norm.ppf(alpha)\n",
        "\n",
        "#INPUT: sd1 cho baseline, sd2 cho su thay doi ky vong, alpha, beta,d-d_min, p-baseline estimate p\n",
        "def get_sampSize(sds,alpha,beta,d):\n",
        "  n = pow((get_z_score(1-alpha/2)*sds[0]+get_z_score(1-beta)*sds[1]),2)/pow(d,2)\n",
        "  return n\n"
      ],
      "metadata": {
        "id": "5VjjTvkTkvhy"
      },
      "execution_count": 15,
      "outputs": []
    },
    {
      "cell_type": "markdown",
      "source": [
        "Bây giờ ta sẽ tính sample size cho từng metric và sẽ chọn ra sample size cao nhất."
      ],
      "metadata": {
        "id": "V-JMXVjQwEv3"
      }
    },
    {
      "cell_type": "code",
      "source": [
        "print(GC)\n",
        "print(R)\n",
        "print(NC)"
      ],
      "metadata": {
        "colab": {
          "base_uri": "https://localhost:8080/"
        },
        "id": "8WJPHroA1N6H",
        "outputId": "d5a91711-f1d2-4cce-bca3-c4a0dbe11eb1"
      },
      "execution_count": 16,
      "outputs": [
        {
          "output_type": "stream",
          "name": "stdout",
          "text": [
            "{'d_min': 0.01, 'p': 0.20625, 'n': 400.0, 'sd': 0.0202}\n",
            "{'d_min': 0.01, 'p': 0.53, 'n': 82.5, 'sd': 0.0549}\n",
            "{'d_min': 0.0075, 'p': 0.109313, 'n': 400.0, 'sd': 0.0156}\n"
          ]
        }
      ]
    },
    {
      "cell_type": "code",
      "source": [
        "#Gross Conversion\n",
        "GC['SampSize'] = round(get_sampSize(get_sds(GC['p'],GC['d_min']),0.05,0.2,GC['d_min']))\n",
        "GC['SampSize']"
      ],
      "metadata": {
        "colab": {
          "base_uri": "https://localhost:8080/"
        },
        "id": "wkJNC3HW0tge",
        "outputId": "21b894dc-fbc6-4454-87a1-9744913c3151"
      },
      "execution_count": 17,
      "outputs": [
        {
          "output_type": "execute_result",
          "data": {
            "text/plain": [
              "25835"
            ]
          },
          "metadata": {},
          "execution_count": 17
        }
      ]
    },
    {
      "cell_type": "markdown",
      "source": [
        "Có nghĩa rằng ta cần ít nhất 25,835 cookies có click vào nút free trial của mỗi nhóm. Dựa trên CTP của baseline =0.08\n",
        "\n",
        "--> pageviews = 25835/0.08 =322,938 cho mỗi nhóm\n",
        "\n",
        "vậy tổng là 645,875 pageviews"
      ],
      "metadata": {
        "id": "EFkLxtOYZ6TM"
      }
    },
    {
      "cell_type": "code",
      "source": [
        "GC['SampSize'] = round(GC['SampSize']/0.08*2)\n",
        "GC['SampSize']"
      ],
      "metadata": {
        "id": "rklcZ2iJ1y7k",
        "colab": {
          "base_uri": "https://localhost:8080/"
        },
        "outputId": "cc443994-cd01-4a99-b93f-505dbb38316f"
      },
      "execution_count": 18,
      "outputs": [
        {
          "output_type": "execute_result",
          "data": {
            "text/plain": [
              "645875"
            ]
          },
          "metadata": {},
          "execution_count": 18
        }
      ]
    },
    {
      "cell_type": "markdown",
      "source": [
        "Retention"
      ],
      "metadata": {
        "id": "RLlMVjGOdzMd"
      }
    },
    {
      "cell_type": "code",
      "source": [
        "R['SampSize'] = round(get_sampSize(get_sds(R['p'],R['d_min']),0.05,0.2,R['d_min']))\n",
        "R['SampSize']"
      ],
      "metadata": {
        "colab": {
          "base_uri": "https://localhost:8080/"
        },
        "id": "9l7Vk20FbrxX",
        "outputId": "e9648998-58d3-4b1a-b526-fcdc995b64ea"
      },
      "execution_count": 19,
      "outputs": [
        {
          "output_type": "execute_result",
          "data": {
            "text/plain": [
              "39087"
            ]
          },
          "metadata": {},
          "execution_count": 19
        }
      ]
    },
    {
      "cell_type": "code",
      "source": [
        "R['SampSize'] = (R['SampSize']/GC['p'])*1/0.08*2\n",
        "R['SampSize']"
      ],
      "metadata": {
        "colab": {
          "base_uri": "https://localhost:8080/"
        },
        "id": "RfDUjFP4eTxE",
        "outputId": "f3ad3185-404e-443a-df05-536ccd7aeac1"
      },
      "execution_count": 20,
      "outputs": [
        {
          "output_type": "execute_result",
          "data": {
            "text/plain": [
              "4737818.181818183"
            ]
          },
          "metadata": {},
          "execution_count": 20
        }
      ]
    },
    {
      "cell_type": "markdown",
      "source": [
        "Cái metric này cần đến 4 triệu pageview, điều này thật là cần rất nhiều thời gian, bởi vì chúng ta chỉ có thể thu thập 40,000 pageview mỗi ngày. Điều đó mất hơn 100 ngày. Nên chúng ta sẽ loại bỏ metric này vì nếu dùng kết quả này sẽ bị bias"
      ],
      "metadata": {
        "id": "0fwStOlrjc3b"
      }
    },
    {
      "cell_type": "markdown",
      "source": [
        "Net Conversion"
      ],
      "metadata": {
        "id": "SSXfgRB-pBVD"
      }
    },
    {
      "cell_type": "code",
      "source": [
        "NC['SampSize'] = round(get_sampSize(get_sds(NC['p'],NC['d_min']),0.05,0.2,NC['d_min']))\n",
        "NC['SampSize']"
      ],
      "metadata": {
        "colab": {
          "base_uri": "https://localhost:8080/"
        },
        "id": "NcsgkWX8jNoU",
        "outputId": "9d0da8cc-54c1-43b3-bb28-61d03fbe6996"
      },
      "execution_count": 21,
      "outputs": [
        {
          "output_type": "execute_result",
          "data": {
            "text/plain": [
              "27413"
            ]
          },
          "metadata": {},
          "execution_count": 21
        }
      ]
    },
    {
      "cell_type": "code",
      "source": [
        "NC['SampSize'] = NC['SampSize']/0.08*2\n",
        "NC['SampSize']"
      ],
      "metadata": {
        "colab": {
          "base_uri": "https://localhost:8080/"
        },
        "id": "KBfZ6C6Wp_ym",
        "outputId": "80df3269-5748-4b8d-8782-d42a6e92c301"
      },
      "execution_count": 22,
      "outputs": [
        {
          "output_type": "execute_result",
          "data": {
            "text/plain": [
              "685325.0"
            ]
          },
          "metadata": {},
          "execution_count": 22
        }
      ]
    },
    {
      "cell_type": "markdown",
      "source": [
        "Đối với Net Conversion ta cần đến 685,325 pageview. Vì nó cao hơn GC nên ta sẽ chọn số pageview này"
      ],
      "metadata": {
        "id": "Zh4Puq696vI5"
      }
    },
    {
      "cell_type": "markdown",
      "source": [
        "##**Analyzing collected Data**\n",
        "###**Sanity Checks**\n",
        "Ta cần thực hiện Sanity check để đảm bảo k có sai lệch hay lỗi dữ liệu trong quá trình thu thập dữ liệu.\n",
        "\n",
        "Chúng ta có 3 invariant metric:\n",
        "- Số cookie xem trang giới thiệu khóa học (Number of Cookies in Course Overview Page)\n",
        "\n",
        "- Số người click vào nút Free Trial (Number of Clicks on Free Trial Button)\n",
        "\n",
        "- Tỷ lệ Click-Through Probability (CTP) – xác suất nhấp = số click / số cookie xem trang\n",
        "\n",
        "Đầu tiên, Ta tiến hành sanity check với pageview"
      ],
      "metadata": {
        "id": "nASRMXDf9EE3"
      }
    },
    {
      "cell_type": "code",
      "source": [
        "pageviews_cont=ctr_data['Pageviews'].sum()\n",
        "pageviews_exp=exp_data['Pageviews'].sum()\n",
        "pageviews_total=pageviews_cont+pageviews_exp\n",
        "print (\"number of pageviews in control:\", pageviews_cont)\n",
        "print (\"number of Pageviewsin experiment:\" ,pageviews_exp)"
      ],
      "metadata": {
        "colab": {
          "base_uri": "https://localhost:8080/"
        },
        "id": "Ja0hRK4ErGvY",
        "outputId": "b0c3d35e-170e-44c2-9bb3-b38906f9e7c8"
      },
      "execution_count": 23,
      "outputs": [
        {
          "output_type": "stream",
          "name": "stdout",
          "text": [
            "number of pageviews in control: 345543\n",
            "number of Pageviewsin experiment: 344660\n"
          ]
        }
      ]
    },
    {
      "cell_type": "markdown",
      "source": [
        "Chúng ta kỳ vọng rằng khoảng 50% trong tổng số người dùng sẽ vào nhóm control, tức là xác suất một người được chia vào nhóm control là 0.5. Khi đó tổng số người vào nhóm control là một biến **ngẫu nhiên nhị thức (Binomial)**\n",
        "\n",
        "Vì dữ liệu cũng lớn đủ để chúng ta sử dụng định lý giới hạn trung tâm (Central Limit Theorem) cho phân phối Binomial"
      ],
      "metadata": {
        "id": "iLf1cHvbarOb"
      }
    },
    {
      "cell_type": "markdown",
      "source": [
        "$$\n",
        "X \\sim N\\left(p, \\sqrt{\\frac{p(1 - p)}{N}} \\right)\n",
        "$$\n",
        "Điều chúng ta muốn kiểm tra là liệu tỷ lệ quan sát được p_hat( tức là số mẫu trong nhóm control chia cho tổng số mẫu trong cả hai nhóm)\n",
        "có khác biệt đáng kể so với p=0.5 hay không.\n",
        "\n",
        "Để làm được điều đó, chúng ta có thể tính khoảng sai số cho phép (margin of error) ở mức độ tin cậy 95%\n",
        "$$\n",
        "ME = Z_{1 - \\frac{\\alpha}{2}} \\cdot SD\n",
        "$$\n",
        "Và cuối cùng chúng ta sẽ xác định được khoảng tin cậy (Confidence interval)\n",
        "$$\n",
        "CI = [\\hat{p} - ME,\\ \\hat{p} + ME]\n",
        "$$\n",
        "Khi mà p nằm trong khoảng này thì việc kiểm tra này được thông qua."
      ],
      "metadata": {
        "id": "jQmgTjW4i3kz"
      }
    },
    {
      "cell_type": "code",
      "source": [
        "p=0.5\n",
        "alpha = 0.05\n",
        "p_hat = round(pageviews_cont/(pageviews_total),4)\n",
        "sd=round(math.sqrt(p*(1-p)/(pageviews_total)),4)\n",
        "ME=round(get_z_score(1-(alpha/2))*sd,4)\n",
        "print(\"Confidence interval nằm ở khoảng từ\",p-ME,\"đến\",p+ME,  \"\\nVậy\",p_hat, \"có trong khoảng này?\")\n"
      ],
      "metadata": {
        "colab": {
          "base_uri": "https://localhost:8080/"
        },
        "id": "fCFMblF4iodt",
        "outputId": "4e2baa23-1487-47db-94f3-f370ae84cb2f"
      },
      "execution_count": 24,
      "outputs": [
        {
          "output_type": "stream",
          "name": "stdout",
          "text": [
            "Confidence interval nằm ở khoảng từ 0.4988 đến 0.5012 \n",
            "Vậy 0.5006 có trong khoảng này?\n"
          ]
        }
      ]
    },
    {
      "cell_type": "markdown",
      "source": [
        "p_hat quan sát được từ dữ liệu nằm trong khoảng tin cậy Điều này cho thấy rằng sự khác biệt về số lượng người giữa 2 nhóm (control và experiment) không quá lớn và có thể chấp nhận được về mặt thống kê.\n",
        "\n",
        "Tiếp theo ta check metric số cookies click vào nút free trial"
      ],
      "metadata": {
        "id": "KFNsDZi9d5r7"
      }
    },
    {
      "cell_type": "code",
      "source": [
        "clicks_contr = ctr_data['Clicks'].sum()\n",
        "clicks_exp = exp_data['Clicks'].sum()\n",
        "clicks_total = clicks_contr + clicks_exp\n",
        "\n",
        "p_hat = round(clicks_contr/clicks_total,4)\n",
        "sd = round(math.sqrt(p*(1-p)/clicks_total),4)\n",
        "ME = round(get_z_score(1-(alpha/2))*sd,4)\n",
        "print(\"Confidence interval nằm ở khoảng từ\",p-ME,\"đến\",p+ME,  \"\\nVậy\",p_hat, \"có trong khoảng này?\")"
      ],
      "metadata": {
        "colab": {
          "base_uri": "https://localhost:8080/"
        },
        "id": "P3qU0IP4cwCG",
        "outputId": "8e1e7bb4-06a7-4598-f2fe-a01453ffba8c"
      },
      "execution_count": 25,
      "outputs": [
        {
          "output_type": "stream",
          "name": "stdout",
          "text": [
            "Confidence interval nằm ở khoảng từ 0.4959 đến 0.5041 \n",
            "Vậy 0.5005 có trong khoảng này?\n"
          ]
        }
      ]
    },
    {
      "cell_type": "markdown",
      "source": [
        "Quá tốt rùi, metric này cũng đã được pass. Tiếp theo là metric cuối cùng CTP\n",
        "\n",
        "CTP là tỷ lệ lượt click trên số pageview\n",
        "\n",
        "Trong trường hợp này, chúng ta muốn đảm bảo rằng tỷ lệ nhấp chuột trên mỗi lượt xem trang (tức CTP quan sát được) là xấp xỉ nhau giữa hai nhóm (control và experiment), bởi vì đây là chỉ số không được kỳ vọng thay đổi do thí nghiệm.\n",
        "\n",
        "Để kiểm tra điều này, ta sẽ:\n",
        "\n",
        "- Tính CTP trong mỗi nhóm (control và experiment),\n",
        "\n",
        "- Sau đó tính khoảng tin cậy (confidence interval) cho sự khác biệt kỳ vọng giữa hai nhóm này.\n",
        "\n",
        "Nói cách khác:\n",
        "Chúng ta kỳ vọng không có sự khác biệt giữa hai nhóm, tức là:\n",
        "\n",
        "CTPexp - CTPcont = 0\n",
        "\n",
        "→ Và nếu có sai số, thì sai số đó phải nằm trong khoảng tin cậy cho phép, được tính toán dựa trên độ lệch chuẩn (standard error).\n",
        "\n",
        "$SD_{pool} = \\sqrt{\\hat{p}_{pool}(1 - \\hat{p}_{pool})\\left( \\frac{1}{N_{cont}} + \\frac{1}{N_{exp}} \\right)}$\n",
        "\n",
        "$\\hat{p}_{pool} = \\frac{x_{cont} + x_{exp}}{N_{cont} + N_{exp}}$\n",
        "\n"
      ],
      "metadata": {
        "id": "OAINz7RJvEf4"
      }
    },
    {
      "cell_type": "code",
      "source": [
        "ctp_cont = clicks_contr/pageviews_cont\n",
        "ctp_exp = clicks_exp/pageviews_exp\n",
        "d_hat = round(ctp_exp-ctp_cont,4)\n",
        "p_pooled = round((clicks_total)/(pageviews_total),4)\n",
        "sd_pooled = math.sqrt(p_pooled*(1-p_pooled)*(1/pageviews_cont+1/pageviews_exp))\n",
        "ME = round(get_z_score(1-(alpha/2))*sd_pooled,4)\n",
        "print(\"Confidence interval nằm ở khoảng từ\",0-ME,\"đến\",0+ME, \"\\nVậy\",d_hat, \"có trong khoảng này?\")"
      ],
      "metadata": {
        "id": "g5QidjURtzfy",
        "colab": {
          "base_uri": "https://localhost:8080/"
        },
        "outputId": "e86b2290-5d07-4bdf-8795-321d6d17c47b"
      },
      "execution_count": 26,
      "outputs": [
        {
          "output_type": "stream",
          "name": "stdout",
          "text": [
            "Confidence interval nằm ở khoảng từ -0.0013 đến 0.0013 \n",
            "Vậy 0.0001 có trong khoảng này?\n"
          ]
        }
      ]
    },
    {
      "cell_type": "markdown",
      "source": [
        "thật tuyệt zời. Có vẻ như việc kiểm tra metric này cũng đã vượt qua một cách xuất sắc rùi.\n",
        "\n",
        "Bước tiếp theo là so sánh sự thay đổi giữa nhóm thử nghiệm (experiment) và nhóm đối chứng (control) trên các metric đánh giá (ví dụ: Gross Conversion, Net Conversion...).\n",
        "####**Gross Conversion**\n",
        "Ý nghĩa thống kê (Statistical significance): Nếu khoảng tin cậy (CI) không chứa số 0, ta có thể kết luận rằng có sự thay đổi thực sự giữa hai nhóm.\n",
        "\n",
        " Vì sao lại là số 0?\n",
        "Vì 0 thể hiện \"không có khác biệt\" giữa hai nhóm – nên nếu CI không bao gồm 0, ta tự tin có sự thay đổi.\n",
        "\n",
        "Ý nghĩa thực tiễn (Practical significance): Nếu khoảng tin cậy không chứa mốc giá trị ý nghĩa thực tế (ví dụ: ±0.01 hoặc ±0.02 tùy theo bài toán), thì sự thay đổi là đủ lớn để có giá trị với doanh nghiệp.\n",
        "\n",
        " Ví dụ: Nếu sự cải thiện chỉ là 0.001, dù có ý nghĩa thống kê, nhưng nó quá nhỏ để quan trọng về mặt kinh doanh.\n",
        "\n",
        "Khi EDA ta thấy dữ liệu:\n",
        "\n",
        "Pageviews và Clicks: trong 39 ngày\n",
        "\n",
        "Enrollments và Payments: chỉ có 23 ngày\n",
        "\n",
        " Khi ta phân tích các metric liên quan đến Enrollments hoặc Payments, ta chỉ được dùng dữ liệu pageviews và clicks tương ứng trong 23 ngày, không dùng toàn bộ 39 ngày – nếu không sẽ bị lệch dữ liệu (gây sai lệch về tỷ lệ)."
      ],
      "metadata": {
        "id": "U3KmOB8Ix2KE"
      }
    },
    {
      "cell_type": "code",
      "source": [
        "clicks_cont = ctr_data['Clicks'].loc[ctr_data['Enrollments'].notnull()].sum()\n",
        "clicks_exp = exp_data['Clicks'].loc[exp_data['Enrollments'].notnull()].sum()\n"
      ],
      "metadata": {
        "id": "vwff-hI7bxiL"
      },
      "execution_count": 27,
      "outputs": []
    },
    {
      "cell_type": "code",
      "source": [
        "enrollments_cont = ctr_data['Enrollments'].sum()\n",
        "enrollments_exp = exp_data['Enrollments'].sum()\n",
        "GC_cont = enrollments_cont / clicks_cont\n",
        "GC_exp = enrollments_exp / clicks_exp\n",
        "GC_pooled = (enrollments_cont+enrollments_exp)/(clicks_cont+clicks_exp)\n",
        "GC_sd_pooled = math.sqrt(GC_pooled*(1-GC_pooled)*(1/clicks_cont+1/clicks_exp))\n",
        "GC_ME = round(get_z_score(1-alpha/2)*GC_sd_pooled,4)\n",
        "GC_diff = round(GC_exp-GC_cont,4)\n",
        "print(\"Thử nghiệm này làm thay đổi Gross Conversion khoảng\",GC_diff*100,\"%\")\n",
        "print(\"Confidence Interval: [\",GC_diff-GC_ME,\",\",GC_diff+GC_ME,\"]\")\n",
        "print (\"Sự thay đổi được xem là có ý nghĩa thống kê nếu CI k bao gồm 0. Trong TH đó, nó được coi là có ý nghĩa thực tiễn nếu\",-GC['d_min'], \"cũng k nằm trong khoảng tin cậy\")"
      ],
      "metadata": {
        "colab": {
          "base_uri": "https://localhost:8080/"
        },
        "id": "q0rmu_uicw_i",
        "outputId": "67e075cb-a999-4578-b898-26cf9ceea581"
      },
      "execution_count": 28,
      "outputs": [
        {
          "output_type": "stream",
          "name": "stdout",
          "text": [
            "Thử nghiệm này làm thay đổi Gross Conversion khoảng -2.06 %\n",
            "Confidence Interval: [ -0.0292 , -0.012 ]\n",
            "Sự thay đổi được xem là có ý nghĩa thống kê nếu CI k bao gồm 0. Trong TH đó, nó được coi là có ý nghĩa thực tiễn nếu -0.01 cũng k nằm trong khoảng tin cậy\n"
          ]
        }
      ]
    },
    {
      "cell_type": "markdown",
      "source": [
        "Theo kết quả này, đã có sự thay đổi do thử nghiệm, và sự thay đổi đó có ý nghĩa cả về mặt thống kê lẫn thực tiễn.\n",
        "\n",
        "-  Chúng ta quan sát thấy sự giảm 2.06%, trong khi mức giảm chấp nhận được là trên 1%.\n",
        "- Điều này có nghĩa là tỷ lệ Gross Conversion (tỷ lệ người đăng ký dùng thử sau khi nhấp vào nút) ở nhóm thử nghiệm (nhóm được hỏi số giờ học mỗi tuần) đã giảm 2%, và sự thay đổi này là có ý nghĩa.\n",
        "\n",
        "Nói cách khác: ít người hơn đăng ký dùng thử miễn phí sau khi họ nhìn thấy pop-up hỏi thời gian học.\n",
        "Và vì điều này là có ý nghĩa thống kê và thực tiễn, nên ta có thể tin rằng sự thay đổi là do thử nghiệm, không phải do ngẫu nhiên."
      ],
      "metadata": {
        "id": "3nEq4mJ1RcQD"
      }
    },
    {
      "cell_type": "markdown",
      "source": [
        "####**Net Conversion**\n",
        "Gross và Net khác nhau giữa enrollment và payments. Nên khi gross giảm có thể net cũng giảm theo nhưng quan trọng là có đáng kể hay k\n"
      ],
      "metadata": {
        "id": "3yr0Qcx4geYz"
      }
    },
    {
      "cell_type": "code",
      "source": [
        "payments_cont = ctr_data['Payments'].sum()\n",
        "payments_exp = exp_data['Payments'].sum()\n",
        "NC_cont = payments_cont / clicks_cont\n",
        "NC_exp = payments_exp / clicks_exp\n",
        "NC_pooled = (payments_cont+payments_exp)/(clicks_cont+clicks_exp)\n",
        "NC_pooled_sd = math.sqrt(NC_pooled*(1-NC_pooled)*(1/clicks_cont+1/clicks_exp))\n",
        "NC_ME = round(get_z_score(1-alpha/2)*NC_pooled_sd,4)\n",
        "NC_diff = round(NC_exp-NC_cont,4)\n",
        "print(\"Thử nghiệm này làm thay đổi Net Conversion khoảng\",NC_diff*100,\"%\")\n",
        "print(\"Confidence Interval: [\",NC_diff-NC_ME,\",\",round(NC_diff+NC_ME,4),\"]\")\n",
        "print (\"Sự thay đổi được xem là có ý nghĩa thống kê nếu CI k bao gồm 0. Trong TH đó, nó được coi là có ý nghĩa thực tiễn nếu\",-NC['d_min'], \"cũng k nằm trong khoảng tin cậy\")"
      ],
      "metadata": {
        "colab": {
          "base_uri": "https://localhost:8080/"
        },
        "id": "5bpo7LMIKu5p",
        "outputId": "3ef80e1f-7282-444f-c5f6-df4e4dcb98ee"
      },
      "execution_count": 29,
      "outputs": [
        {
          "output_type": "stream",
          "name": "stdout",
          "text": [
            "Thử nghiệm này làm thay đổi Net Conversion khoảng -0.49 %\n",
            "Confidence Interval: [ -0.0116 , 0.0018 ]\n",
            "Sự thay đổi được xem là có ý nghĩa thống kê nếu CI k bao gồm 0. Trong TH đó, nó được coi là có ý nghĩa thực tiễn nếu -0.0075 cũng k nằm trong khoảng tin cậy\n"
          ]
        }
      ]
    },
    {
      "cell_type": "markdown",
      "source": [
        "###**Double Check with Sign Tests**\n",
        "Trong kiểm định dấu (sign test) còn được gọi là kiểm định phi tham số, chúng ta có một góc nhìn khác để phân tích kết quả đã thu được – đó là kiểm tra xem xu hướng thay đổi (tăng hoặc giảm) có rõ ràng trong dữ liệu hằng ngày hay không.\n",
        "\n",
        "Cách làm như sau:\n",
        "\n",
        "Ta sẽ tính giá trị của metric (chỉ số) mỗi ngày.\n",
        "\n",
        "Sau đó, đếm số ngày mà giá trị metric của nhóm thử nghiệm (experiment) thấp hơn nhóm đối chứng (control).\n",
        "\n",
        "Số ngày như vậy sẽ được coi là số lần thành công (successes) trong một biến ngẫu nhiên nhị phân (binomial variable).\n",
        "\n",
        "Khi đã có số lần thành công và tổng số ngày, ta có thể xét tỷ lệ ngày thành công (proportion of success days) để đánh giá liệu xu hướng giảm (hoặc tăng) có xảy ra một cách có ý nghĩa thống kê hay không.\n",
        "\n",
        "Nói cách khác:\n",
        " Nếu nhóm thử nghiệm thường xuyên có metric thấp hơn nhóm đối chứng trong đa số ngày, ta có dấu hiệu nhất quán cho thấy thay đổi là đáng tin cậy, ngay cả khi không xét đến độ lớn cụ thể của sự khác biệt mỗi ngày."
      ],
      "metadata": {
        "id": "2MfSqSxm2rom"
      }
    },
    {
      "cell_type": "code",
      "source": [
        "data = ctr_data.join(other = exp_data,how='inner',lsuffix = '_cont',rsuffix = '_exp')\n",
        "data.describe()"
      ],
      "metadata": {
        "colab": {
          "base_uri": "https://localhost:8080/",
          "height": 300
        },
        "id": "4JRRIhxF-r5Y",
        "outputId": "f455fcc4-3c15-45b5-86a0-1faede5a112d"
      },
      "execution_count": 30,
      "outputs": [
        {
          "output_type": "execute_result",
          "data": {
            "text/plain": [
              "       Pageviews_cont  Clicks_cont  Enrollments_cont  Payments_cont  \\\n",
              "count       37.000000    37.000000         23.000000      23.000000   \n",
              "mean      9339.000000   766.972973        164.565217      88.391304   \n",
              "std        740.239563    68.286767         29.977000      20.650202   \n",
              "min       7434.000000   632.000000        110.000000      56.000000   \n",
              "25%       8896.000000   708.000000        146.500000      70.000000   \n",
              "50%       9420.000000   759.000000        162.000000      91.000000   \n",
              "75%       9871.000000   825.000000        175.000000     102.500000   \n",
              "max      10667.000000   909.000000        233.000000     128.000000   \n",
              "\n",
              "       Pageviews_exp  Clicks_exp  Enrollments_exp  Payments_exp  \n",
              "count      37.000000   37.000000        23.000000     23.000000  \n",
              "mean     9315.135135  765.540541       148.826087     84.565217  \n",
              "std       708.070781   64.578374        33.234227     23.060841  \n",
              "min      7664.000000  642.000000        94.000000     34.000000  \n",
              "25%      8881.000000  722.000000       127.000000     69.000000  \n",
              "50%      9359.000000  770.000000       142.000000     91.000000  \n",
              "75%      9737.000000  827.000000       172.000000     99.000000  \n",
              "max     10551.000000  884.000000       213.000000    123.000000  "
            ],
            "text/html": [
              "\n",
              "  <div id=\"df-8c9175cf-9bb4-4b0c-9c7f-9b8581067a1f\" class=\"colab-df-container\">\n",
              "    <div>\n",
              "<style scoped>\n",
              "    .dataframe tbody tr th:only-of-type {\n",
              "        vertical-align: middle;\n",
              "    }\n",
              "\n",
              "    .dataframe tbody tr th {\n",
              "        vertical-align: top;\n",
              "    }\n",
              "\n",
              "    .dataframe thead th {\n",
              "        text-align: right;\n",
              "    }\n",
              "</style>\n",
              "<table border=\"1\" class=\"dataframe\">\n",
              "  <thead>\n",
              "    <tr style=\"text-align: right;\">\n",
              "      <th></th>\n",
              "      <th>Pageviews_cont</th>\n",
              "      <th>Clicks_cont</th>\n",
              "      <th>Enrollments_cont</th>\n",
              "      <th>Payments_cont</th>\n",
              "      <th>Pageviews_exp</th>\n",
              "      <th>Clicks_exp</th>\n",
              "      <th>Enrollments_exp</th>\n",
              "      <th>Payments_exp</th>\n",
              "    </tr>\n",
              "  </thead>\n",
              "  <tbody>\n",
              "    <tr>\n",
              "      <th>count</th>\n",
              "      <td>37.000000</td>\n",
              "      <td>37.000000</td>\n",
              "      <td>23.000000</td>\n",
              "      <td>23.000000</td>\n",
              "      <td>37.000000</td>\n",
              "      <td>37.000000</td>\n",
              "      <td>23.000000</td>\n",
              "      <td>23.000000</td>\n",
              "    </tr>\n",
              "    <tr>\n",
              "      <th>mean</th>\n",
              "      <td>9339.000000</td>\n",
              "      <td>766.972973</td>\n",
              "      <td>164.565217</td>\n",
              "      <td>88.391304</td>\n",
              "      <td>9315.135135</td>\n",
              "      <td>765.540541</td>\n",
              "      <td>148.826087</td>\n",
              "      <td>84.565217</td>\n",
              "    </tr>\n",
              "    <tr>\n",
              "      <th>std</th>\n",
              "      <td>740.239563</td>\n",
              "      <td>68.286767</td>\n",
              "      <td>29.977000</td>\n",
              "      <td>20.650202</td>\n",
              "      <td>708.070781</td>\n",
              "      <td>64.578374</td>\n",
              "      <td>33.234227</td>\n",
              "      <td>23.060841</td>\n",
              "    </tr>\n",
              "    <tr>\n",
              "      <th>min</th>\n",
              "      <td>7434.000000</td>\n",
              "      <td>632.000000</td>\n",
              "      <td>110.000000</td>\n",
              "      <td>56.000000</td>\n",
              "      <td>7664.000000</td>\n",
              "      <td>642.000000</td>\n",
              "      <td>94.000000</td>\n",
              "      <td>34.000000</td>\n",
              "    </tr>\n",
              "    <tr>\n",
              "      <th>25%</th>\n",
              "      <td>8896.000000</td>\n",
              "      <td>708.000000</td>\n",
              "      <td>146.500000</td>\n",
              "      <td>70.000000</td>\n",
              "      <td>8881.000000</td>\n",
              "      <td>722.000000</td>\n",
              "      <td>127.000000</td>\n",
              "      <td>69.000000</td>\n",
              "    </tr>\n",
              "    <tr>\n",
              "      <th>50%</th>\n",
              "      <td>9420.000000</td>\n",
              "      <td>759.000000</td>\n",
              "      <td>162.000000</td>\n",
              "      <td>91.000000</td>\n",
              "      <td>9359.000000</td>\n",
              "      <td>770.000000</td>\n",
              "      <td>142.000000</td>\n",
              "      <td>91.000000</td>\n",
              "    </tr>\n",
              "    <tr>\n",
              "      <th>75%</th>\n",
              "      <td>9871.000000</td>\n",
              "      <td>825.000000</td>\n",
              "      <td>175.000000</td>\n",
              "      <td>102.500000</td>\n",
              "      <td>9737.000000</td>\n",
              "      <td>827.000000</td>\n",
              "      <td>172.000000</td>\n",
              "      <td>99.000000</td>\n",
              "    </tr>\n",
              "    <tr>\n",
              "      <th>max</th>\n",
              "      <td>10667.000000</td>\n",
              "      <td>909.000000</td>\n",
              "      <td>233.000000</td>\n",
              "      <td>128.000000</td>\n",
              "      <td>10551.000000</td>\n",
              "      <td>884.000000</td>\n",
              "      <td>213.000000</td>\n",
              "      <td>123.000000</td>\n",
              "    </tr>\n",
              "  </tbody>\n",
              "</table>\n",
              "</div>\n",
              "    <div class=\"colab-df-buttons\">\n",
              "\n",
              "  <div class=\"colab-df-container\">\n",
              "    <button class=\"colab-df-convert\" onclick=\"convertToInteractive('df-8c9175cf-9bb4-4b0c-9c7f-9b8581067a1f')\"\n",
              "            title=\"Convert this dataframe to an interactive table.\"\n",
              "            style=\"display:none;\">\n",
              "\n",
              "  <svg xmlns=\"http://www.w3.org/2000/svg\" height=\"24px\" viewBox=\"0 -960 960 960\">\n",
              "    <path d=\"M120-120v-720h720v720H120Zm60-500h600v-160H180v160Zm220 220h160v-160H400v160Zm0 220h160v-160H400v160ZM180-400h160v-160H180v160Zm440 0h160v-160H620v160ZM180-180h160v-160H180v160Zm440 0h160v-160H620v160Z\"/>\n",
              "  </svg>\n",
              "    </button>\n",
              "\n",
              "  <style>\n",
              "    .colab-df-container {\n",
              "      display:flex;\n",
              "      gap: 12px;\n",
              "    }\n",
              "\n",
              "    .colab-df-convert {\n",
              "      background-color: #E8F0FE;\n",
              "      border: none;\n",
              "      border-radius: 50%;\n",
              "      cursor: pointer;\n",
              "      display: none;\n",
              "      fill: #1967D2;\n",
              "      height: 32px;\n",
              "      padding: 0 0 0 0;\n",
              "      width: 32px;\n",
              "    }\n",
              "\n",
              "    .colab-df-convert:hover {\n",
              "      background-color: #E2EBFA;\n",
              "      box-shadow: 0px 1px 2px rgba(60, 64, 67, 0.3), 0px 1px 3px 1px rgba(60, 64, 67, 0.15);\n",
              "      fill: #174EA6;\n",
              "    }\n",
              "\n",
              "    .colab-df-buttons div {\n",
              "      margin-bottom: 4px;\n",
              "    }\n",
              "\n",
              "    [theme=dark] .colab-df-convert {\n",
              "      background-color: #3B4455;\n",
              "      fill: #D2E3FC;\n",
              "    }\n",
              "\n",
              "    [theme=dark] .colab-df-convert:hover {\n",
              "      background-color: #434B5C;\n",
              "      box-shadow: 0px 1px 3px 1px rgba(0, 0, 0, 0.15);\n",
              "      filter: drop-shadow(0px 1px 2px rgba(0, 0, 0, 0.3));\n",
              "      fill: #FFFFFF;\n",
              "    }\n",
              "  </style>\n",
              "\n",
              "    <script>\n",
              "      const buttonEl =\n",
              "        document.querySelector('#df-8c9175cf-9bb4-4b0c-9c7f-9b8581067a1f button.colab-df-convert');\n",
              "      buttonEl.style.display =\n",
              "        google.colab.kernel.accessAllowed ? 'block' : 'none';\n",
              "\n",
              "      async function convertToInteractive(key) {\n",
              "        const element = document.querySelector('#df-8c9175cf-9bb4-4b0c-9c7f-9b8581067a1f');\n",
              "        const dataTable =\n",
              "          await google.colab.kernel.invokeFunction('convertToInteractive',\n",
              "                                                    [key], {});\n",
              "        if (!dataTable) return;\n",
              "\n",
              "        const docLinkHtml = 'Like what you see? Visit the ' +\n",
              "          '<a target=\"_blank\" href=https://colab.research.google.com/notebooks/data_table.ipynb>data table notebook</a>'\n",
              "          + ' to learn more about interactive tables.';\n",
              "        element.innerHTML = '';\n",
              "        dataTable['output_type'] = 'display_data';\n",
              "        await google.colab.output.renderOutput(dataTable, element);\n",
              "        const docLink = document.createElement('div');\n",
              "        docLink.innerHTML = docLinkHtml;\n",
              "        element.appendChild(docLink);\n",
              "      }\n",
              "    </script>\n",
              "  </div>\n",
              "\n",
              "\n",
              "    <div id=\"df-e22805ca-4c43-4f9e-bd2a-221e757dda62\">\n",
              "      <button class=\"colab-df-quickchart\" onclick=\"quickchart('df-e22805ca-4c43-4f9e-bd2a-221e757dda62')\"\n",
              "                title=\"Suggest charts\"\n",
              "                style=\"display:none;\">\n",
              "\n",
              "<svg xmlns=\"http://www.w3.org/2000/svg\" height=\"24px\"viewBox=\"0 0 24 24\"\n",
              "     width=\"24px\">\n",
              "    <g>\n",
              "        <path d=\"M19 3H5c-1.1 0-2 .9-2 2v14c0 1.1.9 2 2 2h14c1.1 0 2-.9 2-2V5c0-1.1-.9-2-2-2zM9 17H7v-7h2v7zm4 0h-2V7h2v10zm4 0h-2v-4h2v4z\"/>\n",
              "    </g>\n",
              "</svg>\n",
              "      </button>\n",
              "\n",
              "<style>\n",
              "  .colab-df-quickchart {\n",
              "      --bg-color: #E8F0FE;\n",
              "      --fill-color: #1967D2;\n",
              "      --hover-bg-color: #E2EBFA;\n",
              "      --hover-fill-color: #174EA6;\n",
              "      --disabled-fill-color: #AAA;\n",
              "      --disabled-bg-color: #DDD;\n",
              "  }\n",
              "\n",
              "  [theme=dark] .colab-df-quickchart {\n",
              "      --bg-color: #3B4455;\n",
              "      --fill-color: #D2E3FC;\n",
              "      --hover-bg-color: #434B5C;\n",
              "      --hover-fill-color: #FFFFFF;\n",
              "      --disabled-bg-color: #3B4455;\n",
              "      --disabled-fill-color: #666;\n",
              "  }\n",
              "\n",
              "  .colab-df-quickchart {\n",
              "    background-color: var(--bg-color);\n",
              "    border: none;\n",
              "    border-radius: 50%;\n",
              "    cursor: pointer;\n",
              "    display: none;\n",
              "    fill: var(--fill-color);\n",
              "    height: 32px;\n",
              "    padding: 0;\n",
              "    width: 32px;\n",
              "  }\n",
              "\n",
              "  .colab-df-quickchart:hover {\n",
              "    background-color: var(--hover-bg-color);\n",
              "    box-shadow: 0 1px 2px rgba(60, 64, 67, 0.3), 0 1px 3px 1px rgba(60, 64, 67, 0.15);\n",
              "    fill: var(--button-hover-fill-color);\n",
              "  }\n",
              "\n",
              "  .colab-df-quickchart-complete:disabled,\n",
              "  .colab-df-quickchart-complete:disabled:hover {\n",
              "    background-color: var(--disabled-bg-color);\n",
              "    fill: var(--disabled-fill-color);\n",
              "    box-shadow: none;\n",
              "  }\n",
              "\n",
              "  .colab-df-spinner {\n",
              "    border: 2px solid var(--fill-color);\n",
              "    border-color: transparent;\n",
              "    border-bottom-color: var(--fill-color);\n",
              "    animation:\n",
              "      spin 1s steps(1) infinite;\n",
              "  }\n",
              "\n",
              "  @keyframes spin {\n",
              "    0% {\n",
              "      border-color: transparent;\n",
              "      border-bottom-color: var(--fill-color);\n",
              "      border-left-color: var(--fill-color);\n",
              "    }\n",
              "    20% {\n",
              "      border-color: transparent;\n",
              "      border-left-color: var(--fill-color);\n",
              "      border-top-color: var(--fill-color);\n",
              "    }\n",
              "    30% {\n",
              "      border-color: transparent;\n",
              "      border-left-color: var(--fill-color);\n",
              "      border-top-color: var(--fill-color);\n",
              "      border-right-color: var(--fill-color);\n",
              "    }\n",
              "    40% {\n",
              "      border-color: transparent;\n",
              "      border-right-color: var(--fill-color);\n",
              "      border-top-color: var(--fill-color);\n",
              "    }\n",
              "    60% {\n",
              "      border-color: transparent;\n",
              "      border-right-color: var(--fill-color);\n",
              "    }\n",
              "    80% {\n",
              "      border-color: transparent;\n",
              "      border-right-color: var(--fill-color);\n",
              "      border-bottom-color: var(--fill-color);\n",
              "    }\n",
              "    90% {\n",
              "      border-color: transparent;\n",
              "      border-bottom-color: var(--fill-color);\n",
              "    }\n",
              "  }\n",
              "</style>\n",
              "\n",
              "      <script>\n",
              "        async function quickchart(key) {\n",
              "          const quickchartButtonEl =\n",
              "            document.querySelector('#' + key + ' button');\n",
              "          quickchartButtonEl.disabled = true;  // To prevent multiple clicks.\n",
              "          quickchartButtonEl.classList.add('colab-df-spinner');\n",
              "          try {\n",
              "            const charts = await google.colab.kernel.invokeFunction(\n",
              "                'suggestCharts', [key], {});\n",
              "          } catch (error) {\n",
              "            console.error('Error during call to suggestCharts:', error);\n",
              "          }\n",
              "          quickchartButtonEl.classList.remove('colab-df-spinner');\n",
              "          quickchartButtonEl.classList.add('colab-df-quickchart-complete');\n",
              "        }\n",
              "        (() => {\n",
              "          let quickchartButtonEl =\n",
              "            document.querySelector('#df-e22805ca-4c43-4f9e-bd2a-221e757dda62 button');\n",
              "          quickchartButtonEl.style.display =\n",
              "            google.colab.kernel.accessAllowed ? 'block' : 'none';\n",
              "        })();\n",
              "      </script>\n",
              "    </div>\n",
              "\n",
              "    </div>\n",
              "  </div>\n"
            ],
            "application/vnd.google.colaboratory.intrinsic+json": {
              "type": "dataframe",
              "summary": "{\n  \"name\": \"data\",\n  \"rows\": 8,\n  \"fields\": [\n    {\n      \"column\": \"Pageviews_cont\",\n      \"properties\": {\n        \"dtype\": \"number\",\n        \"std\": 4216.423103625292,\n        \"min\": 37.0,\n        \"max\": 10667.0,\n        \"num_unique_values\": 8,\n        \"samples\": [\n          9339.0,\n          9420.0,\n          37.0\n        ],\n        \"semantic_type\": \"\",\n        \"description\": \"\"\n      }\n    },\n    {\n      \"column\": \"Clicks_cont\",\n      \"properties\": {\n        \"dtype\": \"number\",\n        \"std\": 340.2774017460885,\n        \"min\": 37.0,\n        \"max\": 909.0,\n        \"num_unique_values\": 8,\n        \"samples\": [\n          766.972972972973,\n          759.0,\n          37.0\n        ],\n        \"semantic_type\": \"\",\n        \"description\": \"\"\n      }\n    },\n    {\n      \"column\": \"Enrollments_cont\",\n      \"properties\": {\n        \"dtype\": \"number\",\n        \"std\": 72.67988743253113,\n        \"min\": 23.0,\n        \"max\": 233.0,\n        \"num_unique_values\": 8,\n        \"samples\": [\n          164.56521739130434,\n          162.0,\n          23.0\n        ],\n        \"semantic_type\": \"\",\n        \"description\": \"\"\n      }\n    },\n    {\n      \"column\": \"Payments_cont\",\n      \"properties\": {\n        \"dtype\": \"number\",\n        \"std\": 37.7816260352408,\n        \"min\": 20.650201694887283,\n        \"max\": 128.0,\n        \"num_unique_values\": 8,\n        \"samples\": [\n          88.3913043478261,\n          91.0,\n          23.0\n        ],\n        \"semantic_type\": \"\",\n        \"description\": \"\"\n      }\n    },\n    {\n      \"column\": \"Pageviews_exp\",\n      \"properties\": {\n        \"dtype\": \"number\",\n        \"std\": 4192.993305332148,\n        \"min\": 37.0,\n        \"max\": 10551.0,\n        \"num_unique_values\": 8,\n        \"samples\": [\n          9315.135135135135,\n          9359.0,\n          37.0\n        ],\n        \"semantic_type\": \"\",\n        \"description\": \"\"\n      }\n    },\n    {\n      \"column\": \"Clicks_exp\",\n      \"properties\": {\n        \"dtype\": \"number\",\n        \"std\": 339.70924599109355,\n        \"min\": 37.0,\n        \"max\": 884.0,\n        \"num_unique_values\": 8,\n        \"samples\": [\n          765.5405405405405,\n          770.0,\n          37.0\n        ],\n        \"semantic_type\": \"\",\n        \"description\": \"\"\n      }\n    },\n    {\n      \"column\": \"Enrollments_exp\",\n      \"properties\": {\n        \"dtype\": \"number\",\n        \"std\": 65.81817245240823,\n        \"min\": 23.0,\n        \"max\": 213.0,\n        \"num_unique_values\": 8,\n        \"samples\": [\n          148.82608695652175,\n          142.0,\n          23.0\n        ],\n        \"semantic_type\": \"\",\n        \"description\": \"\"\n      }\n    },\n    {\n      \"column\": \"Payments_exp\",\n      \"properties\": {\n        \"dtype\": \"number\",\n        \"std\": 37.77768133168769,\n        \"min\": 23.0,\n        \"max\": 123.0,\n        \"num_unique_values\": 8,\n        \"samples\": [\n          84.56521739130434,\n          91.0,\n          23.0\n        ],\n        \"semantic_type\": \"\",\n        \"description\": \"\"\n      }\n    }\n  ]\n}"
            }
          },
          "metadata": {},
          "execution_count": 30
        }
      ]
    },
    {
      "cell_type": "code",
      "source": [
        "data = data.loc[data['Enrollments_cont'].notnull()]\n",
        "data.count()"
      ],
      "metadata": {
        "colab": {
          "base_uri": "https://localhost:8080/",
          "height": 397
        },
        "id": "egi3HDsU_ukh",
        "outputId": "62a8f938-ef48-4b49-e4f1-ec755766e124"
      },
      "execution_count": 31,
      "outputs": [
        {
          "output_type": "execute_result",
          "data": {
            "text/plain": [
              "Date_cont           23\n",
              "Pageviews_cont      23\n",
              "Clicks_cont         23\n",
              "Enrollments_cont    23\n",
              "Payments_cont       23\n",
              "Date_exp            23\n",
              "Pageviews_exp       23\n",
              "Clicks_exp          23\n",
              "Enrollments_exp     23\n",
              "Payments_exp        23\n",
              "dtype: int64"
            ],
            "text/html": [
              "<div>\n",
              "<style scoped>\n",
              "    .dataframe tbody tr th:only-of-type {\n",
              "        vertical-align: middle;\n",
              "    }\n",
              "\n",
              "    .dataframe tbody tr th {\n",
              "        vertical-align: top;\n",
              "    }\n",
              "\n",
              "    .dataframe thead th {\n",
              "        text-align: right;\n",
              "    }\n",
              "</style>\n",
              "<table border=\"1\" class=\"dataframe\">\n",
              "  <thead>\n",
              "    <tr style=\"text-align: right;\">\n",
              "      <th></th>\n",
              "      <th>0</th>\n",
              "    </tr>\n",
              "  </thead>\n",
              "  <tbody>\n",
              "    <tr>\n",
              "      <th>Date_cont</th>\n",
              "      <td>23</td>\n",
              "    </tr>\n",
              "    <tr>\n",
              "      <th>Pageviews_cont</th>\n",
              "      <td>23</td>\n",
              "    </tr>\n",
              "    <tr>\n",
              "      <th>Clicks_cont</th>\n",
              "      <td>23</td>\n",
              "    </tr>\n",
              "    <tr>\n",
              "      <th>Enrollments_cont</th>\n",
              "      <td>23</td>\n",
              "    </tr>\n",
              "    <tr>\n",
              "      <th>Payments_cont</th>\n",
              "      <td>23</td>\n",
              "    </tr>\n",
              "    <tr>\n",
              "      <th>Date_exp</th>\n",
              "      <td>23</td>\n",
              "    </tr>\n",
              "    <tr>\n",
              "      <th>Pageviews_exp</th>\n",
              "      <td>23</td>\n",
              "    </tr>\n",
              "    <tr>\n",
              "      <th>Clicks_exp</th>\n",
              "      <td>23</td>\n",
              "    </tr>\n",
              "    <tr>\n",
              "      <th>Enrollments_exp</th>\n",
              "      <td>23</td>\n",
              "    </tr>\n",
              "    <tr>\n",
              "      <th>Payments_exp</th>\n",
              "      <td>23</td>\n",
              "    </tr>\n",
              "  </tbody>\n",
              "</table>\n",
              "</div><br><label><b>dtype:</b> int64</label>"
            ]
          },
          "metadata": {},
          "execution_count": 31
        }
      ]
    },
    {
      "cell_type": "code",
      "source": [
        "a= data['Enrollments_cont']/data['Clicks_cont']\n",
        "b= data['Enrollments_exp']/data['Clicks_exp']\n",
        "data['GC'] = np.where(a<b,1,0)\n",
        "c= data['Payments_cont']/data['Clicks_cont']\n",
        "d= data['Payments_exp']/data['Clicks_exp']\n",
        "data['NC'] = np.where(c<d,1,0)\n",
        "data.head()"
      ],
      "metadata": {
        "colab": {
          "base_uri": "https://localhost:8080/",
          "height": 206
        },
        "id": "D1jTq_4b_1h9",
        "outputId": "5b8a58d9-823a-4909-c77f-8b5bb7a67084"
      },
      "execution_count": 32,
      "outputs": [
        {
          "output_type": "execute_result",
          "data": {
            "text/plain": [
              "     Date_cont  Pageviews_cont  Clicks_cont  Enrollments_cont  Payments_cont  \\\n",
              "0  Sat, Oct 11            7723          687             134.0           70.0   \n",
              "1  Sun, Oct 12            9102          779             147.0           70.0   \n",
              "2  Mon, Oct 13           10511          909             167.0           95.0   \n",
              "3  Tue, Oct 14            9871          836             156.0          105.0   \n",
              "4  Wed, Oct 15           10014          837             163.0           64.0   \n",
              "\n",
              "      Date_exp  Pageviews_exp  Clicks_exp  Enrollments_exp  Payments_exp  GC  \\\n",
              "0  Sat, Oct 11           7716         686            105.0          34.0   0   \n",
              "1  Sun, Oct 12           9288         785            116.0          91.0   0   \n",
              "2  Mon, Oct 13          10480         884            145.0          79.0   0   \n",
              "3  Tue, Oct 14           9867         827            138.0          92.0   0   \n",
              "4  Wed, Oct 15           9793         832            140.0          94.0   0   \n",
              "\n",
              "   NC  \n",
              "0   0  \n",
              "1   1  \n",
              "2   0  \n",
              "3   0  \n",
              "4   1  "
            ],
            "text/html": [
              "\n",
              "  <div id=\"df-c8850262-764d-42ba-a486-63af587f57c8\" class=\"colab-df-container\">\n",
              "    <div>\n",
              "<style scoped>\n",
              "    .dataframe tbody tr th:only-of-type {\n",
              "        vertical-align: middle;\n",
              "    }\n",
              "\n",
              "    .dataframe tbody tr th {\n",
              "        vertical-align: top;\n",
              "    }\n",
              "\n",
              "    .dataframe thead th {\n",
              "        text-align: right;\n",
              "    }\n",
              "</style>\n",
              "<table border=\"1\" class=\"dataframe\">\n",
              "  <thead>\n",
              "    <tr style=\"text-align: right;\">\n",
              "      <th></th>\n",
              "      <th>Date_cont</th>\n",
              "      <th>Pageviews_cont</th>\n",
              "      <th>Clicks_cont</th>\n",
              "      <th>Enrollments_cont</th>\n",
              "      <th>Payments_cont</th>\n",
              "      <th>Date_exp</th>\n",
              "      <th>Pageviews_exp</th>\n",
              "      <th>Clicks_exp</th>\n",
              "      <th>Enrollments_exp</th>\n",
              "      <th>Payments_exp</th>\n",
              "      <th>GC</th>\n",
              "      <th>NC</th>\n",
              "    </tr>\n",
              "  </thead>\n",
              "  <tbody>\n",
              "    <tr>\n",
              "      <th>0</th>\n",
              "      <td>Sat, Oct 11</td>\n",
              "      <td>7723</td>\n",
              "      <td>687</td>\n",
              "      <td>134.0</td>\n",
              "      <td>70.0</td>\n",
              "      <td>Sat, Oct 11</td>\n",
              "      <td>7716</td>\n",
              "      <td>686</td>\n",
              "      <td>105.0</td>\n",
              "      <td>34.0</td>\n",
              "      <td>0</td>\n",
              "      <td>0</td>\n",
              "    </tr>\n",
              "    <tr>\n",
              "      <th>1</th>\n",
              "      <td>Sun, Oct 12</td>\n",
              "      <td>9102</td>\n",
              "      <td>779</td>\n",
              "      <td>147.0</td>\n",
              "      <td>70.0</td>\n",
              "      <td>Sun, Oct 12</td>\n",
              "      <td>9288</td>\n",
              "      <td>785</td>\n",
              "      <td>116.0</td>\n",
              "      <td>91.0</td>\n",
              "      <td>0</td>\n",
              "      <td>1</td>\n",
              "    </tr>\n",
              "    <tr>\n",
              "      <th>2</th>\n",
              "      <td>Mon, Oct 13</td>\n",
              "      <td>10511</td>\n",
              "      <td>909</td>\n",
              "      <td>167.0</td>\n",
              "      <td>95.0</td>\n",
              "      <td>Mon, Oct 13</td>\n",
              "      <td>10480</td>\n",
              "      <td>884</td>\n",
              "      <td>145.0</td>\n",
              "      <td>79.0</td>\n",
              "      <td>0</td>\n",
              "      <td>0</td>\n",
              "    </tr>\n",
              "    <tr>\n",
              "      <th>3</th>\n",
              "      <td>Tue, Oct 14</td>\n",
              "      <td>9871</td>\n",
              "      <td>836</td>\n",
              "      <td>156.0</td>\n",
              "      <td>105.0</td>\n",
              "      <td>Tue, Oct 14</td>\n",
              "      <td>9867</td>\n",
              "      <td>827</td>\n",
              "      <td>138.0</td>\n",
              "      <td>92.0</td>\n",
              "      <td>0</td>\n",
              "      <td>0</td>\n",
              "    </tr>\n",
              "    <tr>\n",
              "      <th>4</th>\n",
              "      <td>Wed, Oct 15</td>\n",
              "      <td>10014</td>\n",
              "      <td>837</td>\n",
              "      <td>163.0</td>\n",
              "      <td>64.0</td>\n",
              "      <td>Wed, Oct 15</td>\n",
              "      <td>9793</td>\n",
              "      <td>832</td>\n",
              "      <td>140.0</td>\n",
              "      <td>94.0</td>\n",
              "      <td>0</td>\n",
              "      <td>1</td>\n",
              "    </tr>\n",
              "  </tbody>\n",
              "</table>\n",
              "</div>\n",
              "    <div class=\"colab-df-buttons\">\n",
              "\n",
              "  <div class=\"colab-df-container\">\n",
              "    <button class=\"colab-df-convert\" onclick=\"convertToInteractive('df-c8850262-764d-42ba-a486-63af587f57c8')\"\n",
              "            title=\"Convert this dataframe to an interactive table.\"\n",
              "            style=\"display:none;\">\n",
              "\n",
              "  <svg xmlns=\"http://www.w3.org/2000/svg\" height=\"24px\" viewBox=\"0 -960 960 960\">\n",
              "    <path d=\"M120-120v-720h720v720H120Zm60-500h600v-160H180v160Zm220 220h160v-160H400v160Zm0 220h160v-160H400v160ZM180-400h160v-160H180v160Zm440 0h160v-160H620v160ZM180-180h160v-160H180v160Zm440 0h160v-160H620v160Z\"/>\n",
              "  </svg>\n",
              "    </button>\n",
              "\n",
              "  <style>\n",
              "    .colab-df-container {\n",
              "      display:flex;\n",
              "      gap: 12px;\n",
              "    }\n",
              "\n",
              "    .colab-df-convert {\n",
              "      background-color: #E8F0FE;\n",
              "      border: none;\n",
              "      border-radius: 50%;\n",
              "      cursor: pointer;\n",
              "      display: none;\n",
              "      fill: #1967D2;\n",
              "      height: 32px;\n",
              "      padding: 0 0 0 0;\n",
              "      width: 32px;\n",
              "    }\n",
              "\n",
              "    .colab-df-convert:hover {\n",
              "      background-color: #E2EBFA;\n",
              "      box-shadow: 0px 1px 2px rgba(60, 64, 67, 0.3), 0px 1px 3px 1px rgba(60, 64, 67, 0.15);\n",
              "      fill: #174EA6;\n",
              "    }\n",
              "\n",
              "    .colab-df-buttons div {\n",
              "      margin-bottom: 4px;\n",
              "    }\n",
              "\n",
              "    [theme=dark] .colab-df-convert {\n",
              "      background-color: #3B4455;\n",
              "      fill: #D2E3FC;\n",
              "    }\n",
              "\n",
              "    [theme=dark] .colab-df-convert:hover {\n",
              "      background-color: #434B5C;\n",
              "      box-shadow: 0px 1px 3px 1px rgba(0, 0, 0, 0.15);\n",
              "      filter: drop-shadow(0px 1px 2px rgba(0, 0, 0, 0.3));\n",
              "      fill: #FFFFFF;\n",
              "    }\n",
              "  </style>\n",
              "\n",
              "    <script>\n",
              "      const buttonEl =\n",
              "        document.querySelector('#df-c8850262-764d-42ba-a486-63af587f57c8 button.colab-df-convert');\n",
              "      buttonEl.style.display =\n",
              "        google.colab.kernel.accessAllowed ? 'block' : 'none';\n",
              "\n",
              "      async function convertToInteractive(key) {\n",
              "        const element = document.querySelector('#df-c8850262-764d-42ba-a486-63af587f57c8');\n",
              "        const dataTable =\n",
              "          await google.colab.kernel.invokeFunction('convertToInteractive',\n",
              "                                                    [key], {});\n",
              "        if (!dataTable) return;\n",
              "\n",
              "        const docLinkHtml = 'Like what you see? Visit the ' +\n",
              "          '<a target=\"_blank\" href=https://colab.research.google.com/notebooks/data_table.ipynb>data table notebook</a>'\n",
              "          + ' to learn more about interactive tables.';\n",
              "        element.innerHTML = '';\n",
              "        dataTable['output_type'] = 'display_data';\n",
              "        await google.colab.output.renderOutput(dataTable, element);\n",
              "        const docLink = document.createElement('div');\n",
              "        docLink.innerHTML = docLinkHtml;\n",
              "        element.appendChild(docLink);\n",
              "      }\n",
              "    </script>\n",
              "  </div>\n",
              "\n",
              "\n",
              "    <div id=\"df-052af381-2092-41fc-93e1-a777e30a3e9a\">\n",
              "      <button class=\"colab-df-quickchart\" onclick=\"quickchart('df-052af381-2092-41fc-93e1-a777e30a3e9a')\"\n",
              "                title=\"Suggest charts\"\n",
              "                style=\"display:none;\">\n",
              "\n",
              "<svg xmlns=\"http://www.w3.org/2000/svg\" height=\"24px\"viewBox=\"0 0 24 24\"\n",
              "     width=\"24px\">\n",
              "    <g>\n",
              "        <path d=\"M19 3H5c-1.1 0-2 .9-2 2v14c0 1.1.9 2 2 2h14c1.1 0 2-.9 2-2V5c0-1.1-.9-2-2-2zM9 17H7v-7h2v7zm4 0h-2V7h2v10zm4 0h-2v-4h2v4z\"/>\n",
              "    </g>\n",
              "</svg>\n",
              "      </button>\n",
              "\n",
              "<style>\n",
              "  .colab-df-quickchart {\n",
              "      --bg-color: #E8F0FE;\n",
              "      --fill-color: #1967D2;\n",
              "      --hover-bg-color: #E2EBFA;\n",
              "      --hover-fill-color: #174EA6;\n",
              "      --disabled-fill-color: #AAA;\n",
              "      --disabled-bg-color: #DDD;\n",
              "  }\n",
              "\n",
              "  [theme=dark] .colab-df-quickchart {\n",
              "      --bg-color: #3B4455;\n",
              "      --fill-color: #D2E3FC;\n",
              "      --hover-bg-color: #434B5C;\n",
              "      --hover-fill-color: #FFFFFF;\n",
              "      --disabled-bg-color: #3B4455;\n",
              "      --disabled-fill-color: #666;\n",
              "  }\n",
              "\n",
              "  .colab-df-quickchart {\n",
              "    background-color: var(--bg-color);\n",
              "    border: none;\n",
              "    border-radius: 50%;\n",
              "    cursor: pointer;\n",
              "    display: none;\n",
              "    fill: var(--fill-color);\n",
              "    height: 32px;\n",
              "    padding: 0;\n",
              "    width: 32px;\n",
              "  }\n",
              "\n",
              "  .colab-df-quickchart:hover {\n",
              "    background-color: var(--hover-bg-color);\n",
              "    box-shadow: 0 1px 2px rgba(60, 64, 67, 0.3), 0 1px 3px 1px rgba(60, 64, 67, 0.15);\n",
              "    fill: var(--button-hover-fill-color);\n",
              "  }\n",
              "\n",
              "  .colab-df-quickchart-complete:disabled,\n",
              "  .colab-df-quickchart-complete:disabled:hover {\n",
              "    background-color: var(--disabled-bg-color);\n",
              "    fill: var(--disabled-fill-color);\n",
              "    box-shadow: none;\n",
              "  }\n",
              "\n",
              "  .colab-df-spinner {\n",
              "    border: 2px solid var(--fill-color);\n",
              "    border-color: transparent;\n",
              "    border-bottom-color: var(--fill-color);\n",
              "    animation:\n",
              "      spin 1s steps(1) infinite;\n",
              "  }\n",
              "\n",
              "  @keyframes spin {\n",
              "    0% {\n",
              "      border-color: transparent;\n",
              "      border-bottom-color: var(--fill-color);\n",
              "      border-left-color: var(--fill-color);\n",
              "    }\n",
              "    20% {\n",
              "      border-color: transparent;\n",
              "      border-left-color: var(--fill-color);\n",
              "      border-top-color: var(--fill-color);\n",
              "    }\n",
              "    30% {\n",
              "      border-color: transparent;\n",
              "      border-left-color: var(--fill-color);\n",
              "      border-top-color: var(--fill-color);\n",
              "      border-right-color: var(--fill-color);\n",
              "    }\n",
              "    40% {\n",
              "      border-color: transparent;\n",
              "      border-right-color: var(--fill-color);\n",
              "      border-top-color: var(--fill-color);\n",
              "    }\n",
              "    60% {\n",
              "      border-color: transparent;\n",
              "      border-right-color: var(--fill-color);\n",
              "    }\n",
              "    80% {\n",
              "      border-color: transparent;\n",
              "      border-right-color: var(--fill-color);\n",
              "      border-bottom-color: var(--fill-color);\n",
              "    }\n",
              "    90% {\n",
              "      border-color: transparent;\n",
              "      border-bottom-color: var(--fill-color);\n",
              "    }\n",
              "  }\n",
              "</style>\n",
              "\n",
              "      <script>\n",
              "        async function quickchart(key) {\n",
              "          const quickchartButtonEl =\n",
              "            document.querySelector('#' + key + ' button');\n",
              "          quickchartButtonEl.disabled = true;  // To prevent multiple clicks.\n",
              "          quickchartButtonEl.classList.add('colab-df-spinner');\n",
              "          try {\n",
              "            const charts = await google.colab.kernel.invokeFunction(\n",
              "                'suggestCharts', [key], {});\n",
              "          } catch (error) {\n",
              "            console.error('Error during call to suggestCharts:', error);\n",
              "          }\n",
              "          quickchartButtonEl.classList.remove('colab-df-spinner');\n",
              "          quickchartButtonEl.classList.add('colab-df-quickchart-complete');\n",
              "        }\n",
              "        (() => {\n",
              "          let quickchartButtonEl =\n",
              "            document.querySelector('#df-052af381-2092-41fc-93e1-a777e30a3e9a button');\n",
              "          quickchartButtonEl.style.display =\n",
              "            google.colab.kernel.accessAllowed ? 'block' : 'none';\n",
              "        })();\n",
              "      </script>\n",
              "    </div>\n",
              "\n",
              "    </div>\n",
              "  </div>\n"
            ],
            "application/vnd.google.colaboratory.intrinsic+json": {
              "type": "dataframe",
              "variable_name": "data",
              "summary": "{\n  \"name\": \"data\",\n  \"rows\": 23,\n  \"fields\": [\n    {\n      \"column\": \"Date_cont\",\n      \"properties\": {\n        \"dtype\": \"string\",\n        \"num_unique_values\": 23,\n        \"samples\": [\n          \"Sun, Oct 26\",\n          \"Mon, Oct 20\",\n          \"Sat, Oct 11\"\n        ],\n        \"semantic_type\": \"\",\n        \"description\": \"\"\n      }\n    },\n    {\n      \"column\": \"Pageviews_cont\",\n      \"properties\": {\n        \"dtype\": \"number\",\n        \"std\": 850,\n        \"min\": 7434,\n        \"max\": 10667,\n        \"num_unique_values\": 23,\n        \"samples\": [\n          8896,\n          10667,\n          7723\n        ],\n        \"semantic_type\": \"\",\n        \"description\": \"\"\n      }\n    },\n    {\n      \"column\": \"Clicks_cont\",\n      \"properties\": {\n        \"dtype\": \"number\",\n        \"std\": 77,\n        \"min\": 632,\n        \"max\": 909,\n        \"num_unique_values\": 22,\n        \"samples\": [\n          687,\n          673,\n          691\n        ],\n        \"semantic_type\": \"\",\n        \"description\": \"\"\n      }\n    },\n    {\n      \"column\": \"Enrollments_cont\",\n      \"properties\": {\n        \"dtype\": \"number\",\n        \"std\": 29.97700040630623,\n        \"min\": 110.0,\n        \"max\": 233.0,\n        \"num_unique_values\": 20,\n        \"samples\": [\n          134.0,\n          154.0,\n          161.0\n        ],\n        \"semantic_type\": \"\",\n        \"description\": \"\"\n      }\n    },\n    {\n      \"column\": \"Payments_cont\",\n      \"properties\": {\n        \"dtype\": \"number\",\n        \"std\": 20.650201694887283,\n        \"min\": 56.0,\n        \"max\": 128.0,\n        \"num_unique_values\": 20,\n        \"samples\": [\n          70.0,\n          101.0,\n          86.0\n        ],\n        \"semantic_type\": \"\",\n        \"description\": \"\"\n      }\n    },\n    {\n      \"column\": \"Date_exp\",\n      \"properties\": {\n        \"dtype\": \"string\",\n        \"num_unique_values\": 23,\n        \"samples\": [\n          \"Sun, Oct 26\",\n          \"Mon, Oct 20\",\n          \"Sat, Oct 11\"\n        ],\n        \"semantic_type\": \"\",\n        \"description\": \"\"\n      }\n    },\n    {\n      \"column\": \"Pageviews_exp\",\n      \"properties\": {\n        \"dtype\": \"number\",\n        \"std\": 802,\n        \"min\": 7664,\n        \"max\": 10551,\n        \"num_unique_values\": 23,\n        \"samples\": [\n          8881,\n          10496,\n          7716\n        ],\n        \"semantic_type\": \"\",\n        \"description\": \"\"\n      }\n    },\n    {\n      \"column\": \"Clicks_exp\",\n      \"properties\": {\n        \"dtype\": \"number\",\n        \"std\": 70,\n        \"min\": 642,\n        \"max\": 884,\n        \"num_unique_values\": 22,\n        \"samples\": [\n          686,\n          669,\n          697\n        ],\n        \"semantic_type\": \"\",\n        \"description\": \"\"\n      }\n    },\n    {\n      \"column\": \"Enrollments_exp\",\n      \"properties\": {\n        \"dtype\": \"number\",\n        \"std\": 33.23422684510797,\n        \"min\": 94.0,\n        \"max\": 213.0,\n        \"num_unique_values\": 20,\n        \"samples\": [\n          105.0,\n          207.0,\n          162.0\n        ],\n        \"semantic_type\": \"\",\n        \"description\": \"\"\n      }\n    },\n    {\n      \"column\": \"Payments_exp\",\n      \"properties\": {\n        \"dtype\": \"number\",\n        \"std\": 23.060840651231736,\n        \"min\": 34.0,\n        \"max\": 123.0,\n        \"num_unique_values\": 22,\n        \"samples\": [\n          34.0,\n          81.0,\n          77.0\n        ],\n        \"semantic_type\": \"\",\n        \"description\": \"\"\n      }\n    },\n    {\n      \"column\": \"GC\",\n      \"properties\": {\n        \"dtype\": \"number\",\n        \"std\": 0,\n        \"min\": 0,\n        \"max\": 1,\n        \"num_unique_values\": 2,\n        \"samples\": [\n          1,\n          0\n        ],\n        \"semantic_type\": \"\",\n        \"description\": \"\"\n      }\n    },\n    {\n      \"column\": \"NC\",\n      \"properties\": {\n        \"dtype\": \"number\",\n        \"std\": 0,\n        \"min\": 0,\n        \"max\": 1,\n        \"num_unique_values\": 2,\n        \"samples\": [\n          1,\n          0\n        ],\n        \"semantic_type\": \"\",\n        \"description\": \"\"\n      }\n    }\n  ]\n}"
            }
          },
          "metadata": {},
          "execution_count": 32
        }
      ]
    },
    {
      "cell_type": "code",
      "source": [
        "GC_x = data['GC'][data['GC']==1].count()\n",
        "NC_x = data['NC'][data['NC']==1].count()\n",
        "n = data['NC'].count()\n",
        "print(\"Số trường hợp success của GC:\",GC_x,'\\n',\n",
        "      \"Số trường hợp success của NC:\",NC_x,'\\n',\n",
        "      \"Tổng trường hợp\",n)"
      ],
      "metadata": {
        "colab": {
          "base_uri": "https://localhost:8080/"
        },
        "id": "-oSQUO-nOPgE",
        "outputId": "c72d7a1e-b9fa-4785-8d83-6c1b6592b555"
      },
      "execution_count": 39,
      "outputs": [
        {
          "output_type": "stream",
          "name": "stdout",
          "text": [
            "Số trường hợp success của GC: 4 \n",
            " Số trường hợp success của NC: 10 \n",
            " Tổng trường hợp 23\n"
          ]
        }
      ]
    },
    {
      "cell_type": "markdown",
      "source": [
        "Việc chúng ta cần làm sau khi đã đếm số ngày mà nhóm thử nghiệm (experiment) có giá trị metric cao hơn nhóm đối chứng (control), là xem liệu số ngày đó có khả năng xảy ra lại trong một thử nghiệm mới hay không (tức là kiểm tra tính có ý nghĩa thống kê).\n",
        "Chúng ta giả định rằng xác suất để một ngày như vậy xảy ra là ngẫu nhiên (50% cơ hội xảy ra), và sau đó sử dụng phân phối nhị thức (binomial distribution) với p = 0.5 và số lần thử nghiệm (n là tổng số ngày) để tính xác suất của việc kết quả như vậy xảy ra do ngẫu nhiên.\n",
        "\n",
        "Vì vậy, theo phân phối nhị thức với p = 0.5 và n = số ngày, ta muốn biết xác suất để có x ngày thành công (tức là metric của nhóm thử nghiệm cao hơn nhóm đối chứng).\n",
        "Bởi vì đây là kiểm định hai phía (two-tailed test), ta cần nhân đôi xác suất đó. Và khi đã có kết quả, ta gọi đó là giá trị p (p-value) và so sánh nó với mức ý nghĩa α (alpha).\n",
        "\n",
        "Nếu p-value > α thì kết quả không có ý nghĩa thống kê và ngược lại\n",
        "\n",
        "$$\n",
        "P(\\text{successes}) = \\frac{n!}{x! (n - x)!} \\cdot p^x \\cdot (1 - p)^{n - x}\n",
        "$$"
      ],
      "metadata": {
        "id": "kPjMjAgPKmOn"
      }
    },
    {
      "cell_type": "code",
      "source": [
        "#tạo một function để tính xác suất với x là số ngày thành công\n",
        "def get_prob(x,n):\n",
        "  p = round(math.factorial(n)/(math.factorial(x)*math.factorial(n-x))*0.5**x*0.5**(n-x),4)\n",
        "  return p\n",
        "\n",
        "def get_2side_pvalue(x,n):\n",
        "  p=0\n",
        "  for i in range(0,x+1):\n",
        "    p = p + get_prob(i,n)\n",
        "  return 2*p\n",
        "\n"
      ],
      "metadata": {
        "id": "_3h5v49MCyZ8"
      },
      "execution_count": 41,
      "outputs": []
    },
    {
      "cell_type": "code",
      "source": [
        "print (\"Sự thay đổi của GC có ý nghĩa khi\",round(get_2side_pvalue(GC_x,n),4),\"nhỏ hơn 0.05\")\n",
        "print (\"Sự thay đổi của NC có ý nghĩa khi\",round(get_2side_pvalue(NC_x,n),4),\"nhỏ hơn 0.05\")"
      ],
      "metadata": {
        "colab": {
          "base_uri": "https://localhost:8080/"
        },
        "id": "tf-qqewUNemX",
        "outputId": "4a1430b4-8d60-45c6-e42e-07f358af6a5e"
      },
      "execution_count": 45,
      "outputs": [
        {
          "output_type": "stream",
          "name": "stdout",
          "text": [
            "Sự thay đổi của GC có ý nghĩa khi 0.0026 nhỏ hơn 0.05\n",
            "Sự thay đổi của NC có ý nghĩa khi 0.6774 nhỏ hơn 0.05\n"
          ]
        }
      ]
    },
    {
      "cell_type": "markdown",
      "source": [
        "Kết luận vẫn giống như tính toán độ lớn hiệu ứng (effect size) . Sự thay đổi trong Gross Conversion là có ý nghĩa thống kê, trong khi sự thay đổi trong Net Conversion thì không."
      ],
      "metadata": {
        "id": "er8OL2s3Q7LP"
      }
    },
    {
      "cell_type": "markdown",
      "source": [
        "##**Conclusion and Recommendation**\n",
        "Thí nghiệm này được thiết kế nhằm xác định liệu việc lọc học viên dựa trên cam kết thời gian học tập có cải thiện trải nghiệm học tập tổng thể và năng lực hỗ trợ của các huấn luyện viên đối với những học viên có khả năng hoàn thành khóa học hay không, mà không làm giảm đáng kể số lượng học viên tiếp tục sau giai đoạn dùng thử miễn phí.\n",
        "\n",
        "Một sự giảm có ý nghĩa thống kê và thực tiễn đã được quan sát thấy ở Gross Conversion, nhưng không có sự khác biệt đáng kể nào ở Net Conversion. Điều này có nghĩa là tỷ lệ người ghi danh (enrollment) giảm xuống, nhưng không đi kèm với việc tăng tỷ lệ những người học đủ 14 ngày để phải trả tiền.\n",
        "\n",
        "--> Với kết quả này, tôi khuyến nghị KHÔNG nên triển khai thay đổi, mà nên tiếp tục thực hiện những thí nghiệm khác.\n",
        "##**Follow up Experiment**\n",
        "**Can thiệp trước ghi danh (Pre-enrollment Intervention)**\n",
        "\n",
        "Thí nghiệm trước đó đã thử nghiệm một hình thức can thiệp bằng cách hỏi học viên về cam kết thời gian học tập – nhằm lọc ra những người dễ nản. Tuy nhiên, bộ lọc này chỉ tập trung vào thời gian, mà không đề cập đến các lý do khác có thể khiến học viên huỷ sớm. Ví dụ, dù học viên cam kết đủ thời gian nhưng thiếu kỹ năng nền tảng, họ vẫn có thể cảm thấy thất vọng và từ bỏ.\n",
        "\n",
        "Đề xuất nâng cấp:\n",
        "- Thêm một danh sách kỹ năng tiền đề (pre-requisite skills) vào pop-up hỏi về thời gian cam kết.\n",
        "\n",
        "Nếu học viên đáp ứng được cả thời gian và kỹ năng, họ sẽ được đưa tới trang đăng ký dùng thử.\n",
        "\n",
        "Nếu không đáp ứng, họ sẽ được khuyến khích trải nghiệm bản học miễn phí (free version).\n",
        "\n",
        "Thí nghiệm này có chi phí thấp, vì tận dụng lại hạ tầng và pipeline dữ liệu hiện tại, chỉ cần thay đổi nội dung biểu mẫu (form).\n",
        "\n",
        "Một thí nghiệm được coi là thành công nếu:\n",
        "\n",
        "  Gross Conversion (tỉ lệ đăng ký dùng thử) giảm đáng kể (lọc bớt người không phù hợp), nhưng\n",
        "\n",
        "  Net Conversion (tỉ lệ chuyển thành trả phí) tăng đáng kể (lọc trúng người phù hợp hơn).\n",
        "\n",
        "- Tạo bài test đầu vào trước khi học:\n",
        "\n",
        "  Một cách khác để tăng độ hiệu quả của việc sàng lọc là thiết kế một bài test đầu vào ngắn, nhằm kiểm tra kiến thức nền tảng.\n",
        "Kết hợp bài test đầu vào cùng checklist thời gian và kỹ năng sẽ tạo ra một bộ lọc toàn diện hơn, giúp chọn đúng người học, đúng khóa học, từ đó tăng tỉ lệ hoàn thành và hài lòng.\n",
        "\n",
        "**Can thiệp sau ghi danh nhưng trước khi trả phí (Post-enrollment Intervention)**\n",
        "\n",
        "Có nhiều phương án có thể áp dụng ở giai đoạn này, và chúng có thể triển khai song song với giai đoạn pre-enrollment.\n",
        "\n",
        "**Đề xuất:**\n",
        "\n",
        "Khuyến khích học viên tham gia nhóm học tập (team).\n",
        "\n",
        "Nếu học viên được đưa vào một nhóm học để:\n",
        "\n",
        "- Thảo luận bài vở,\n",
        "\n",
        "- Chia sẻ khó khăn,\n",
        "\n",
        "- Có trách nhiệm cùng nhau học,\n",
        "\n",
        "Thì khả năng vượt qua giai đoạn ban đầu khó khăn và giữ lại đến ngày thứ 14 sẽ cao hơn.\n",
        "\n",
        "**Thiết lập thí nghiệm:**\n",
        "\n",
        "Khi ghi danh, học viên được ngẫu nhiên phân vào:\n",
        "\n",
        "Nhóm kiểm soát (control): Không tham gia team.\n",
        "\n",
        "Nhóm thí nghiệm (experiment): Được ghép vào team học.\n",
        "\n",
        "**Giả thuyết gốc (Null Hypothesis):** Việc tham gia nhóm không làm tăng số người học vượt qua 14 ngày dùng thử một cách có ý nghĩa thống kê.\n",
        "\n",
        "**Đơn vị phân nhóm (Unit of Diversion):** user-id, vì thay đổi diễn ra sau khi học viên tạo tài khoản.\n",
        "\n",
        "**Chỉ số bất biến (Invariant Metric):** user-id, vì mong đợi sự phân bổ đều giữa 2 nhóm.\n",
        "\n",
        "**Chỉ số đánh giá (Evaluation Metric):** Retention (tỷ lệ ở lại sau 14 ngày).\n",
        "\n",
        "-->Triển khai:\n",
        "Nếu có sự gia tăng đáng kể (về thống kê và thực tiễn) ở Retention, và tác động đến tài nguyên (ví dụ: duy trì nhóm học không quá tốn kém), thì thí nghiệm sẽ được triển khai chính thức."
      ],
      "metadata": {
        "id": "OTkAnSovVc9u"
      }
    }
  ]
}